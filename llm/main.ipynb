{
 "cells": [
  {
   "cell_type": "code",
   "execution_count": 24,
   "metadata": {},
   "outputs": [
    {
     "data": {
      "text/plain": [
       "True"
      ]
     },
     "execution_count": 24,
     "metadata": {},
     "output_type": "execute_result"
    }
   ],
   "source": [
    "import dotenv\n",
    "from IPython.display import display, Image\n",
    "from langgraph.types import interrupt, Command\n",
    "from langgraph.graph import StateGraph, START, END, MessagesState\n",
    "from langchain_openai import ChatOpenAI\n",
    "from langchain_core.messages import SystemMessage\n",
    "from typing import List, Optional\n",
    "from pydantic import Field\n",
    "from typing_extensions import Annotated, TypedDict\n",
    "from langgraph.checkpoint.memory import MemorySaver\n",
    "\n",
    "dotenv.load_dotenv()"
   ]
  },
  {
   "cell_type": "markdown",
   "metadata": {},
   "source": [
    "## Model, tools, graph state"
   ]
  },
  {
   "cell_type": "code",
   "execution_count": 25,
   "metadata": {},
   "outputs": [],
   "source": [
    "class Answer(TypedDict):\n",
    "    \"\"\"Answer to a question\"\"\"\n",
    "\n",
    "    answer: Annotated[str, ..., \"The answer to the question\"]\n",
    "\n",
    "\n",
    "class Question(TypedDict):\n",
    "    \"\"\"Question to ask the user\"\"\"\n",
    "\n",
    "    question: Annotated[str, ..., \"The question to ask the user\"]\n",
    "    guidance: Annotated[str, ..., \"Guidance to help the user answer the question\"]\n",
    "    answer: Annotated[Optional[str], ...]\n",
    "\n",
    "\n",
    "class Questions(TypedDict):\n",
    "    \"\"\"List of questions to ask the user\"\"\"\n",
    "\n",
    "    questions: List[Question] = Field(description=\"The questions to ask the user\", min_length=3)\n",
    "\n",
    "class CharactersSummary(TypedDict):\n",
    "    \"\"\"Summary of the characters in the story\"\"\"\n",
    "\n",
    "    appearance: Annotated[str, ..., \"Description of the character's appearance\"]\n",
    "    description: Annotated[str, ..., \"Description of the character\"]\n",
    "\n",
    "\n",
    "# class Answers(TypedDict):\n",
    "#     \"\"\"List of answers to questions\"\"\"\n",
    "\n",
    "#     answers: List[Answer] = Field(description=\"The answers to the questions\", min_length=3)\n",
    "\n",
    "\n",
    "# State - has messages from MessagesState\n",
    "class GraphState(MessagesState):\n",
    "    questions: Questions\n",
    "    summary: CharactersSummary\n",
    "\n",
    "\n",
    "model = ChatOpenAI(model=\"gpt-4o-mini\")\n",
    "model_with_json_questions_output = model.with_structured_output(Questions)\n",
    "model_with_json_summary_output = model.with_structured_output(CharactersSummary)"
   ]
  },
  {
   "cell_type": "code",
   "execution_count": 26,
   "metadata": {},
   "outputs": [
    {
     "data": {
      "image/png": "[encoded data removed]",
      "text/plain": [
       "<IPython.core.display.Image object>"
      ]
     },
     "metadata": {},
     "output_type": "display_data"
    }
   ],
   "source": [
    "# Node\n",
    "def generate_questions(state: GraphState):\n",
    "    sys_msg = SystemMessage(\"\"\"\n",
    "You are helpful assistant to generate 3 helpful questions with a short guidance about how to answer them based on given information.\n",
    "Those questions should be helpful to later generate a character for the tabletop RPG game called \"Świat Apokalipsy\".\n",
    "Question should be more specific than general and should help to fill character's sheet like class, skills, items.\n",
    "\n",
    "You will receive a 4 block of information:\n",
    "1. basic information which will contain name of the character, age and other basic information.\n",
    "    example: Moja postać ma na imię Max, ma 25 lat, jest wysokim, szczupłym mężczyzną o ciemnych włosach i niebieskich oczach.\n",
    "2. history of the character which will contain information about the past and skills of the character gained during the past.\n",
    "    example: Max urodził się w małej wiosce, gdzie jego rodzina prowadziła gospodarstwo rolne. W wieku 18 lat opuścił rodzinny dom i wyruszył w świat, aby zdobyć nowe doświadczenia. Podczas swoich podróży nauczył się walczyć i przetrwać w trudnych warunkach.\n",
    "3. Character's traits which will contain information about the character's personality and other traits.\n",
    "    example: Max jest odważny, lecz nieufny wobec obcych. Jest lojalny wobec swoich przyjaciół i gotów poświęcić się dla nich. Często działa impulsywnie, co prowadzi go do niebezpiecznych sytuacji.\n",
    "4. Game's world information which will contain information about the world where the game takes place.\n",
    "    example: Świat postapokaliptycznego przedmieścia Warszawy, gdzie przetrwali unikają stolicy.\n",
    "\n",
    "Example of questions:\n",
    "1. Co sprawiło, że Twoja postać przetrwała apokalipsę?\n",
    "    Pomyśl o umiejętnościach, szczęściu lub okolicznościach, które pozwoliłyby Twojej postaci przetrwać.\n",
    "2. Jakie wydarzenie z przeszłości Twojej postaci miało największy wpływ na jej obecną postawę?\n",
    "    Może to być trauma, triumf lub inna sytuacja, która ukształtowała Twoją postać.\n",
    "3. Kogo Twoja postać straciła podczas apokalipsy i jak to wpłynęło na jej życie?\n",
    "    Zastanów się nad relacjami i więzami, które zostały zerwane.\n",
    "\n",
    "Your output should be in Polish language and contain exactly 3 questions.\n",
    "\"\"\")\n",
    "\n",
    "    questions = model_with_json_questions_output.invoke([sys_msg] + state[\"messages\"])\n",
    "    return {\"messages\": [], \"questions\": questions}\n",
    "\n",
    "\n",
    "# Node\n",
    "def human_input(state: GraphState):\n",
    "    human_message = interrupt(\"human_input\")\n",
    "    for i, answer in enumerate(human_message[\"answers\"]):\n",
    "        answer_t = answer[\"answer\"]\n",
    "        print(state[\"questions\"][\"questions\"])\n",
    "        state[\"questions\"][\"questions\"][i][\"answer\"] = answer_t\n",
    "\n",
    "    print(state[\"questions\"])\n",
    "\n",
    "    return {\"messages\": state[\"messages\"], \"questions\": state[\"questions\"]}\n",
    "\n",
    "\n",
    "# Node\n",
    "def summarizer(state: GraphState):\n",
    "    sys_msg = SystemMessage(\n",
    "        \"\"\"You are helpful assistant to generate a summary of the character based on the given information.\n",
    "\n",
    "        Your task is to generate a summary of the character based on the information provided by the user in the same language as the input.\n",
    "\n",
    "        Your output should contain the following information:\n",
    "\n",
    "        Wygląd (appearance) - basic information about the character's appearance, short but detailed description. 1 sentence.\n",
    "        Opis (description) -  description of the character. May contain extremely short background and basic traits. 2-3 sentences.\n",
    "        \"\"\"\n",
    "    )\n",
    "\n",
    "    last_human_message = state[\"messages\"][0]\n",
    "\n",
    "    answers = \"\"\n",
    "    for question in state[\"questions\"][\"questions\"]:\n",
    "        answers += f\"{question['answer']}\\n\"\n",
    "\n",
    "    character_info = last_human_message.content + \"\\n\" + answers\n",
    "\n",
    "    summary = model_with_json_summary_output.invoke([sys_msg] + [character_info])\n",
    "    return {\"messages\": state[\"messages\"], \"summary\": summary}\n",
    "\n",
    "\n",
    "workflow = StateGraph(GraphState)\n",
    "\n",
    "workflow.add_node(\"agent\", generate_questions)\n",
    "workflow.add_node(\"human_input\", human_input)\n",
    "workflow.add_node(\"summarizer\", summarizer)\n",
    "\n",
    "workflow.add_edge(START, \"agent\")\n",
    "workflow.add_edge(\"agent\", \"human_input\")\n",
    "workflow.add_edge(\"human_input\", \"summarizer\")\n",
    "workflow.add_edge(\"summarizer\", END)\n",
    "\n",
    "checkpointer = MemorySaver()\n",
    "\n",
    "graph = workflow.compile(checkpointer=checkpointer)\n",
    "\n",
    "display(Image(graph.get_graph().draw_mermaid_png()))"
   ]
  },
  {
   "cell_type": "code",
   "execution_count": 27,
   "metadata": {},
   "outputs": [
    {
     "name": "stdout",
     "output_type": "stream",
     "text": [
      "================================\u001b[1m Human Message \u001b[0m=================================\n",
      "\n",
      "Joseph jest 35 letnim mężczyzną o szerokiej sylwetce bez oka i długimi włosami, nosi opaskę.\n",
      "\n",
      "Za życia był udanym mechanikiem i prowadził dużą sieć serwisów samochodowych.\n",
      "\n",
      "Joseph jest bardzo szczerym i wesołym, zawsze znajdzie moment na żart.\n",
      "\n",
      "Ostatnia wojna nuklearna zmasakrowała cały świat, ale cudem ominęła Otwock, który leży przy Warszawie.\n",
      "\n",
      "{'questions': [{'question': 'Jakie umiejętności mechaniczne Joseph wykorzystuje w nowym, postapokaliptycznym świecie?', 'guidance': 'Zastanów się, jak jego doświadczenie w naprawie samochodów może pomóc w codziennym przetrwaniu oraz w radzeniu sobie z nowymi wyzwaniami.'}, {'question': 'Jakie relacje Joseph nawiązał w Otwocku po apokalipsie?', 'guidance': 'Pomyśl o innych postaciach, które mogłyby być dla niego ważne, i jak te relacje wpływają na jego osobowość oraz podejście do życia w nowym świecie.'}, {'question': 'Jak Joseph radzi sobie ze stratą oka i czy ma z tym związane jakiekolwiek lęki lub traumy?', 'guidance': 'Rozważ, jak ta utrata może wpływać na jego codzienne życie, interakcje z innymi oraz na jego poczucie wartości.'}]}\n"
     ]
    }
   ],
   "source": [
    "config = {\"configurable\": {\"thread_id\": \"1\"}}\n",
    "\n",
    "resp = graph.invoke(\n",
    "    {\"messages\": \"Joseph jest 35 letnim mężczyzną o szerokiej sylwetce bez oka i długimi włosami, nosi opaskę.\\n\\nZa życia był udanym mechanikiem i prowadził dużą sieć serwisów samochodowych.\\n\\nJoseph jest bardzo szczerym i wesołym, zawsze znajdzie moment na żart.\\n\\nOstatnia wojna nuklearna zmasakrowała cały świat, ale cudem ominęła Otwock, który leży przy Warszawie.\"},\n",
    "    config=config,\n",
    ")\n",
    "\n",
    "for m in resp[\"messages\"]:\n",
    "    m.pretty_print()\n",
    "\n",
    "print()\n",
    "print(resp[\"questions\"])\n",
    "\n",
    "# print()\n",
    "# print(resp[\"answers\"])\n",
    "\n",
    "# print(type(resp[\"questions\"]))\n",
    "\n",
    "# print()\n",
    "# print(resp[\"questions\"][\"questions\"][0][\"question\"])"
   ]
  },
  {
   "cell_type": "code",
   "execution_count": 28,
   "metadata": {},
   "outputs": [
    {
     "name": "stdout",
     "output_type": "stream",
     "text": [
      "[{'question': 'Jakie umiejętności mechaniczne Joseph wykorzystuje w nowym, postapokaliptycznym świecie?', 'guidance': 'Zastanów się, jak jego doświadczenie w naprawie samochodów może pomóc w codziennym przetrwaniu oraz w radzeniu sobie z nowymi wyzwaniami.'}, {'question': 'Jakie relacje Joseph nawiązał w Otwocku po apokalipsie?', 'guidance': 'Pomyśl o innych postaciach, które mogłyby być dla niego ważne, i jak te relacje wpływają na jego osobowość oraz podejście do życia w nowym świecie.'}, {'question': 'Jak Joseph radzi sobie ze stratą oka i czy ma z tym związane jakiekolwiek lęki lub traumy?', 'guidance': 'Rozważ, jak ta utrata może wpływać na jego codzienne życie, interakcje z innymi oraz na jego poczucie wartości.'}]\n",
      "[{'question': 'Jakie umiejętności mechaniczne Joseph wykorzystuje w nowym, postapokaliptycznym świecie?', 'guidance': 'Zastanów się, jak jego doświadczenie w naprawie samochodów może pomóc w codziennym przetrwaniu oraz w radzeniu sobie z nowymi wyzwaniami.', 'answer': 'Joseph przetrwał apokalipsę dzięki swojemu sprytowi i umiejętnościom przetrwania.'}, {'question': 'Jakie relacje Joseph nawiązał w Otwocku po apokalipsie?', 'guidance': 'Pomyśl o innych postaciach, które mogłyby być dla niego ważne, i jak te relacje wpływają na jego osobowość oraz podejście do życia w nowym świecie.'}, {'question': 'Jak Joseph radzi sobie ze stratą oka i czy ma z tym związane jakiekolwiek lęki lub traumy?', 'guidance': 'Rozważ, jak ta utrata może wpływać na jego codzienne życie, interakcje z innymi oraz na jego poczucie wartości.'}]\n",
      "[{'question': 'Jakie umiejętności mechaniczne Joseph wykorzystuje w nowym, postapokaliptycznym świecie?', 'guidance': 'Zastanów się, jak jego doświadczenie w naprawie samochodów może pomóc w codziennym przetrwaniu oraz w radzeniu sobie z nowymi wyzwaniami.', 'answer': 'Joseph przetrwał apokalipsę dzięki swojemu sprytowi i umiejętnościom przetrwania.'}, {'question': 'Jakie relacje Joseph nawiązał w Otwocku po apokalipsie?', 'guidance': 'Pomyśl o innych postaciach, które mogłyby być dla niego ważne, i jak te relacje wpływają na jego osobowość oraz podejście do życia w nowym świecie.', 'answer': 'Stara się unikać tematów związanych z przeszłością, ale wciąż go prześladują koszmary z przeszłości.'}, {'question': 'Jak Joseph radzi sobie ze stratą oka i czy ma z tym związane jakiekolwiek lęki lub traumy?', 'guidance': 'Rozważ, jak ta utrata może wpływać na jego codzienne życie, interakcje z innymi oraz na jego poczucie wartości.'}]\n",
      "{'questions': [{'question': 'Jakie umiejętności mechaniczne Joseph wykorzystuje w nowym, postapokaliptycznym świecie?', 'guidance': 'Zastanów się, jak jego doświadczenie w naprawie samochodów może pomóc w codziennym przetrwaniu oraz w radzeniu sobie z nowymi wyzwaniami.', 'answer': 'Joseph przetrwał apokalipsę dzięki swojemu sprytowi i umiejętnościom przetrwania.'}, {'question': 'Jakie relacje Joseph nawiązał w Otwocku po apokalipsie?', 'guidance': 'Pomyśl o innych postaciach, które mogłyby być dla niego ważne, i jak te relacje wpływają na jego osobowość oraz podejście do życia w nowym świecie.', 'answer': 'Stara się unikać tematów związanych z przeszłością, ale wciąż go prześladują koszmary z przeszłości.'}, {'question': 'Jak Joseph radzi sobie ze stratą oka i czy ma z tym związane jakiekolwiek lęki lub traumy?', 'guidance': 'Rozważ, jak ta utrata może wpływać na jego codzienne życie, interakcje z innymi oraz na jego poczucie wartości.', 'answer': 'Zestaw narzędzi, który dostał od swojego ojca, który zginął podczas wojny.'}]}\n",
      "================================\u001b[1m Human Message \u001b[0m=================================\n",
      "\n",
      "Joseph jest 35 letnim mężczyzną o szerokiej sylwetce bez oka i długimi włosami, nosi opaskę.\n",
      "\n",
      "Za życia był udanym mechanikiem i prowadził dużą sieć serwisów samochodowych.\n",
      "\n",
      "Joseph jest bardzo szczerym i wesołym, zawsze znajdzie moment na żart.\n",
      "\n",
      "Ostatnia wojna nuklearna zmasakrowała cały świat, ale cudem ominęła Otwock, który leży przy Warszawie.\n",
      "\n",
      "{'questions': [{'question': 'Jakie umiejętności mechaniczne Joseph wykorzystuje w nowym, postapokaliptycznym świecie?', 'guidance': 'Zastanów się, jak jego doświadczenie w naprawie samochodów może pomóc w codziennym przetrwaniu oraz w radzeniu sobie z nowymi wyzwaniami.', 'answer': 'Joseph przetrwał apokalipsę dzięki swojemu sprytowi i umiejętnościom przetrwania.'}, {'question': 'Jakie relacje Joseph nawiązał w Otwocku po apokalipsie?', 'guidance': 'Pomyśl o innych postaciach, które mogłyby być dla niego ważne, i jak te relacje wpływają na jego osobowość oraz podejście do życia w nowym świecie.', 'answer': 'Stara się unikać tematów związanych z przeszłością, ale wciąż go prześladują koszmary z przeszłości.'}, {'question': 'Jak Joseph radzi sobie ze stratą oka i czy ma z tym związane jakiekolwiek lęki lub traumy?', 'guidance': 'Rozważ, jak ta utrata może wpływać na jego codzienne życie, interakcje z innymi oraz na jego poczucie wartości.', 'answer': 'Zestaw narzędzi, który dostał od swojego ojca, który zginął podczas wojny.'}]}\n"
     ]
    }
   ],
   "source": [
    "resp = graph.invoke(\n",
    "    Command(\n",
    "        resume={\n",
    "            \"answers\": [\n",
    "                {\n",
    "                    \"answer\": \"Joseph przetrwał apokalipsę dzięki swojemu sprytowi i umiejętnościom przetrwania.\"\n",
    "                },\n",
    "                {\n",
    "                    \"answer\": \"Stara się unikać tematów związanych z przeszłością, ale wciąż go prześladują koszmary z przeszłości.\"\n",
    "                },\n",
    "                {\n",
    "                    \"answer\": \"Zestaw narzędzi, który dostał od swojego ojca, który zginął podczas wojny.\"\n",
    "                },\n",
    "            ],\n",
    "        },\n",
    "    ),\n",
    "    config=config,\n",
    ")\n",
    "\n",
    "for m in resp[\"messages\"]:\n",
    "    m.pretty_print()\n",
    "\n",
    "print()\n",
    "\n",
    "print(resp[\"questions\"])"
   ]
  },
  {
   "cell_type": "code",
   "execution_count": 30,
   "metadata": {},
   "outputs": [
    {
     "name": "stdout",
     "output_type": "stream",
     "text": [
      "{'appearance': 'Joseph jest 35-letnim mężczyzną o szerokiej sylwetce, bez oka i długich włosach, nosi opaskę.', 'description': 'Był udanym mechanikiem, prowadzącym dużą sieć serwisów samochodowych, a teraz jest bardzo szczerym i wesołym człowiekiem, który zawsze znajdzie moment na żart. Przeżył ostatnią wojnę nuklearną dzięki sprytowi i umiejętnościom przetrwania, chociaż koszmary z przeszłości wciąż go prześladują.'}\n"
     ]
    }
   ],
   "source": [
    "print(resp[\"summary\"])"
   ]
  },
  {
   "cell_type": "code",
   "execution_count": null,
   "metadata": {},
   "outputs": [],
   "source": []
  }
 ],
 "metadata": {
  "kernelspec": {
   "display_name": ".venv",
   "language": "python",
   "name": "python3"
  },
  "language_info": {
   "codemirror_mode": {
    "name": "ipython",
    "version": 3
   },
   "file_extension": ".py",
   "mimetype": "text/x-python",
   "name": "python",
   "nbconvert_exporter": "python",
   "pygments_lexer": "ipython3",
   "version": "3.12.5"
  }
 },
 "nbformat": 4,
 "nbformat_minor": 2
}
