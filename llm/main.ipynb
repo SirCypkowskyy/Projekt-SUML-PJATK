{
 "cells": [
  {
   "cell_type": "code",
   "execution_count": 218,
   "metadata": {},
   "outputs": [
    {
     "data": {
      "text/plain": [
       "True"
      ]
     },
     "execution_count": 218,
     "metadata": {},
     "output_type": "execute_result"
    }
   ],
   "source": [
    "import dotenv\n",
    "from IPython.display import display, Image\n",
    "from langgraph.types import interrupt, Command\n",
    "from langgraph.graph import StateGraph, START, END, MessagesState\n",
    "from langchain_openai import ChatOpenAI\n",
    "from langchain_core.messages import SystemMessage, AIMessage\n",
    "from typing import List, Optional\n",
    "from langgraph.prebuilt import ToolNode, tools_condition\n",
    "from pydantic import Field\n",
    "from typing_extensions import Annotated, TypedDict\n",
    "from langgraph.checkpoint.memory import MemorySaver\n",
    "from langchain_core.output_parsers import StrOutputParser\n",
    "\n",
    "\n",
    "dotenv.load_dotenv()"
   ]
  },
  {
   "cell_type": "markdown",
   "metadata": {},
   "source": [
    "### RAG"
   ]
  },
  {
   "cell_type": "markdown",
   "metadata": {},
   "source": [
    "##### Documents"
   ]
  },
  {
   "cell_type": "code",
   "execution_count": 219,
   "metadata": {},
   "outputs": [
    {
     "data": {
      "text/plain": [
       "['# TWORZENIE TEKKNIKA\\n\\nAby stworzyć swojego tekknika, wybierz imię, wygląd, cechy, ruchy, warsztat oraz projekty.\\n\\n## OPIS POSTACI\\n\\nJest jedna rzecz, na którą zawsze można liczyć w Świecie Apokalipsy: wszystko się psuje.\\n\\n## IMIĘ\\n\\n- Leah\\n- Joshua\\n- Tai\\n- Ethan\\n- Bran\\n- Jeremy\\n- Amanuel\\n- Justin\\n- Jessica\\n- Eliza\\n- Dylan\\n- Adnan\\n- Alan\\n- Nils\\n- Ellen\\n- Lee\\n- Kim\\n- Adele\\n- Leone\\n- Burdick\\n- Oliver\\n- Goldman\\n- Whiting\\n- Fauci\\n- Hoss\\ue014eld\\n- Lemma\\n- Morrell\\n- Ozair\\n- Robinson\\n- Lemieux\\n- Whitmont\\n- Cullen\\n- Spector\\n\\n## WYGLĄD\\n\\n- Płeć: Mężczyzna, kobieta, dwuznaczny lub transgresywny.\\n- Ubiór: roboczy technika, zniszczony technika, staroświecki technika, codzienny technika.\\n- Twarz: pospolita, ładna, szczera, żywa.\\n- Oczy: zmrużone, spokojne, śmiejące się, rozbiegane, taksujące.\\n- Ciało: grube, drobne, zgarbione, żylaste, krępe, dziwaczne.\\n\\n## CECHY\\n\\nWybierz jeden zestaw cech:\\n\\n- Spokój−1 Hart=0 Urok+1 Spryt+1 Dziw+2\\n- Spokój=0 Hart−1 Urok−1 Spryt+2 Dziw+2\\n- Spokój+1 Hart−1 Urok=0 Spryt+1 Dziw+2\\n- Spokój+1 Hart+1 Urok−1 Spryt=0 Dziw+2\\n\\n## RUCHY\\n\\nDostajesz wszystkie podstawowe ruchy.\\nWybierz 2 ruchy tekknika.\\n\\n### RUCHY TEKKNIKA\\n\\n#### Rzeczy mówią\\n\\nZa każdym razem, gdy posługujesz się czymś interesującym lub badasz coś takiego, rzuć+dziw. W przypadku sukcesu możesz zadać MC pytania.\\nNa 10+ możesz zadać 3 pytania. Na 7–9 zadaj 1:\\n\\n- kto zajmował się tym ostatnio?\\n- kto to zrobił?\\n- jakie silne emocje były z tym ostatnio związane?\\n- co ostatnio zostało powiedziane w pobliżu tego?\\n- do czego tego ostatnio używano?\\n- co jest z tym nie tak i jak mogę to naprawić?\\n\\nPorażka działa tak samo jak porażka w rzucie na otworzenie swojego mózgu na działanie psychicznego wiru.\\n\\n#### Czuję to w kościach\\n\\nNa początku sesji rzuć+dziw. Na 10+ zatrzymaj 1+1. Na 7–9 zatrzymaj 1. W dowolnym momencie ty albo MC możecie wydać zatrzyma- nia, żebyś znalazł się w odpowiednim miejscu i czasie, wraz z potrzebnymi akurat narzędziami oraz niezbędną wiedzą (nie trzeba wyjaśniać jak to dokładnie się stało). Jeśli twój rzut dał ci zatrzymanie 1+1, dostajesz +1 do następnego rzutu. W przypadku porażki MC dostaje 1 zatrzymanie, które może wydać, żebyś znalazł się na miejscu zdarzeń, ale osaczony, zaskoczony bądź wciągnięty w pułapkę.\\n\\n#### Prosta sprawa\\n\\nGdy jakaś postać przyjdzie do ciebie po poradę, powiedz jej szczerze, jaki twoim zdaniem jest najlepszy kierunek działania. Jeśli zrobi to, co jej poradzisz, dostanie +1 do wszystkich rzutów z tym związanych, a ty zaznaczasz doświadczenie.\\n\\n#### Na granicy zmysłów\\n\\nJakiś komponent lub układ komponentów w twoim warsztacie w niesamowity sposób odbiera psychiczny wir (+przepowiednia). Wybierz i nazwij te elementy lub pozwól MC dookreślić je podczas gry.\\n\\n#### Nadnaturalne opanowanie\\n\\nGdy robisz coś pod presją, rzuć+dziw zamiast rzucać+spokój.\\n\\n#### Niezwykła intuicja\\n\\nDostajesz +1 dziw (dziw+3).\\n\\n## SPRZĘT\\n\\nOprócz warsztatu opisz swój ubiór. Dostajesz również różności warte 3-barter oraz od jednego do trzech osobistych przedmiotów z normalnego sprzętu lub uzbrojenia.\\n\\n## WARSZTAT\\n\\nWybierz, które z poniższych elementów znajdują się w twoim warsztacie.\\n\\nWybierz 3 z nich: garaż, ciemnia, kontrolowana przestrzeń hodowlana, wykwalifikowani pracownicy (np. Carna, Thuy, Pamming), góra złomu do wykorzystania, ciężarówka lub samochód towarowy, dziwaczna elektronika, narzędzia do obróbki materiałów, transmitery i receptory, teren doświadczalny, relikt złotej ery, miny i pułapki.\\n',\n",
       " '# TWORZENIE ŻYLETY\\n\\nAby stworzyć swoją żyletę, wybierz imię, wygląd, cechy, ruchy oraz sprzęt.\\n\\n## OPIS POSTACI\\n\\nNawet w tak niebezpiecznym miejscu jak Świat Apokalipsy, żylety są, cóż. Powinieneś spuścić wzrok i ominąć je, ale nie jesteś w stanie. Są niczym nęcące błękitne iskry, prawda? Pomylisz zapatrzenie się w nie z miłością, podejdziesz zbyt blisko, i nagle czujesz moc zylionów wolt, a twoje skrzydła płoną niczym papier.\\n\\nNiebezpieczne.\\n\\n## IMIĘ\\n\\nWybież jedno z poniższych imion:\\n\\n- Śnieg\\n- Karmazyn\\n- Cień\\n- Błękit\\n- Północ\\n- Szkarłat\\n- Violetta\\n- Amber\\n- Róż\\n- Damson\\n- Zmierzch\\n- Szmaragd lub Rubin\\n- Raksha\\n- Kiecka\\n- Latawiec\\n- Monsun\\n- Smith\\n- Bestia\\n- Baaba\\n- Melodia\\n- Mar\\n- Tavi\\n- Absynt\\n- Miodunka\\n\\n## WYGLĄD\\n\\nWybierz jedną opcję z każdej kategorii:\\n\\n- Płeć: Mężczyzna, kobieta, dwuznaczny lub transgresywny.\\n- Ubiór: formalny, wyzywający, luksusowy, codzienny, szpanerski pancerz.\\n- Twarz: gładka, słodka, przystojna, ostre rysy, dziewczęca, chłopięca, oszałamiająca.\\n- Oczy: taksujące, bezlitosne, lodowate, zniewalające, obojętne.\\n- Ciało: kuszące, szczupłe, boskie, umięśnione, chłopięca sylwetka.\\n\\n## CECHY\\n\\nWybierz jeden zestaw cech:\\n\\n- Spokój+3 Hart−1 Urok+1 Spryt+1 Dziw=0\\n- Spokój+3 Hart−1 Urok+2 Spryt=0 Dziw−1\\n- Spokój+3 Hart−2 Urok+1 Spryt+1 Dziw+1\\n- Spokój+3 Hart=0 Urok+1 Spryt+1 Dziw−1\\n\\n## RUCHY\\n\\nDostajesz wszystkie podstawowe ruchy.\\nWybierz 2 ruchy żylety.\\n\\n### RUCHY ŻYLETY\\n\\n#### Zabójcza piękność\\n\\nGdy włączasz się do napiętej sytuacji, rzuć+urok. Na 10+ zatrzymaj 2. Na 7–9 zatrzymaj 1. Wydaj zatrzymania 1 za 1, by nawiązać kontakt wzrokowy z którąś z postaci niezależnych. Ta postać zamiera w bezruchu i może działać dopiero wtedy, gdy przerwiesz kontakt wzrokowy. W przypadku porażki wszyscy wrogowie uznają cię za największe zagrożenie.\\n\\n#### Zimna jak lód\\n\\nGdy grozisz przemocą którejś z postaci niezależnych, rzuć+spokój zamiast rzucać+hart. Gdy grozisz przemocą którejś z postaci graczy, rzuć+Hx zamiast rzucać+hart.\\n\\n#### Bez litości\\n\\nGdy zadajesz obrażenia, zadajesz dodatkowo +1ranę.\\n\\n#### Wizje śmierci\\n\\nGdy wkraczasz do walki, rzuć+dziw. Na 10+ wybierz jedną postać, która zginie, oraz jedną, która przeżyje. Na 7–9 wybierz jedną postać, która zginie LUB jedną, która przeżyje. Nie wybieraj postaci innych graczy, możesz wybrać tylko którąś z postaci niezależnych. MC sprawi, że twoja wizja się spełni, jeśli będzie na to chociaż cień szansy. W przypadku porażki masz wizję własnej śmierci i w związku z tym dostajesz −1 do wszystkich rzutów do końca walki.\\n\\n#### Wyostrzone zmysły\\n\\nGdy odczytujesz napiętą sytuację i wykorzystujesz odpowiedzi MC, dostajesz +2 zamiast +1.\\n\\n#### Nieziemski refleks\\n\\nSposób, w jaki poruszasz się bez obciążenia, liczy się jako\\npancerz. Jeśli poruszasz się nago lub niemal nago: jak 2-pancerza, a kiedy masz na sobie ubranie niebędące pancerzem: jak 1-pancerza. Jeśli nosisz pancerz, użyj go zamiast tego ruchu.\\n\\n## SPRZĘT\\n\\nDostajesz:\\n\\n- 2 sztuki spersonalizowanej broni\\n- różności warte 2-barter\\n- ubranie odpowiadające twojemu wyglądowi; możesz zdecydować, czy w jego skład wchodzi również odzież o wartości 1-pancerza lub pancerz o wartości 2-pancerza (ty ustalasz szczegóły)\\n',\n",
       " '# TWORZENIE ANIOŁA\\n\\nAby stworzyć swojego anioła, wybierz imię, wygląd, cechy, ruchy oraz sprzęt.\\n\\n## OPIS POSTACI\\n\\nLeżysz w piachu Świata Apokalipsy, z flakami na wierzchu. O czyją pomoc się modlisz? Bogów? Dawno odeszli.\\nTwoich przyjaciół? To same dupki, inaczej nie leżałbyś teraz tutaj.\\nA może chcesz do mamusi? Jest kochana, ale nie wpakuje ci flaków z powrotem do brzucha. Modlisz się o kogoś, obojętnie kogo, z igłą, nitką\\ni sześciopakiem morfiny. A kiedy wreszcie się zjawi, zdaje się być aniołem.\\n\\n## IMIĘ\\n\\nWybierz jedno z poniższych imion:\\n\\n- Dou\\n- Bon\\n- Abe\\n- Boo\\n- T\\n- Kal\\n- Bai\\n- Char\\n- Jav\\n- Ruth\\n- Wei\\n- Jay\\n- Nee\\n- Kim\\n- Lan\\n- Di\\n- Dez\\n- Doc\\n- Rdzeń\\n- Wózek\\n- Buzz\\n- Klucz\\n- Gabe\\n- Biz\\n- Bish\\n- Lina\\n- Cal\\n- Chwyt\\n- Kręgarz\\n\\n## WYGLĄD\\n\\nWybierz jedną opcję z każdej kategorii:\\n\\n- Płeć: Mężczyzna, kobieta, dwuznaczny, transgresywny lub niejawny.\\n- Ubiór: roboczy, codzienny plus roboczy, łachmany plus roboczy.\\n- Twarz: przyjazna, kwadratowa, surowa, wychudzona, ładna, radosna.\\n- Oczy: rozbiegane, surowe, zatroskane, bystre, śmiejące się, szczere.\\n- Ciało: krępe, tęgie, chude, potężne, smukłe, krzepkie.\\n\\n## CECHY\\n\\nWybierz jeden zestaw cech:\\n\\n- Spokój+1 Hart=0 Urok+1 Spryt+2 Dziw−1\\n- Spokój+1 Hart+1 Urok=0 Spryt+2 Dziw−1\\n- Spokój−1 Hart+1 Urok=0 Spryt+2 Dziw+1\\n- Spokój+2 Hart=0 Urok−1 Spryt+2 Dziw−1\\n\\n## RUCHY\\n\\nDostajesz wszystkie podstawowe ruchy.\\nWybierz dwa ruchy anioła:\\n\\n### RUCHY ANIOŁA\\n\\nSzósty zmysł:\\nGdy otwierasz swój mózg na psychiczny wir, rzuć+spryt zamiast rzucać+dziw.\\n\\nWłasna klinika:\\nPosiadasz własny szpital, warsztat wyposażony w aparaturę do podtrzymywania życia, laboratorium chemiczne oraz dwuosobowy personel (ekipa) (Shigusa i Mox, pasuje?). W klinice możesz pracować nad pacjentami tak, jak Technik pracuje nad technologią (por.).\\n\\nZawodowe współczucie:\\nGdy pomagasz komuś, kto wykonuje rzut, możesz rzucić+spryt zamiast rzucać+Hx.\\n\\nAnioł bitwy:\\nKiedy opiekujesz się ludźmi i nie walczysz, dostajesz +1pancerza.\\n\\nUzdrawiający dotyk:\\nGdy nakładasz ręce na ciało rannej osoby i otwierasz na nią swój mózg, rzuć+dziw. Na 10+ leczysz 1 segment. Na 7–9 również leczysz 1 segment, ale działasz pod presją ze strony mózgu swojego pacjenta. W przypadku porażki: po pierwsze, nie leczysz tej osoby. Po drugie, otwierasz swój mózg i mózg pacjenta na działanie psychicznego wiru, bez żadnego przygotowania ani ochrony. Dla twojej postaci oraz dla pacjenta (jeśli jest to postać innego gracza) liczy się to jak porażka w rzucie na otwarcie mózgu. Jeśli pacjentem jest postać MC, to MC decyduje, co się z nią stanie.\\n\\nNaznaczony przez śmierć:\\nJeśli pacjent będący pod twoją opieką umrze, dostajesz +1dziw (max. +3).\\n\\n## SPRZĘT\\n\\nDostajesz:\\n\\n- apteczkę anioła\\n- 1 małą, praktyczną broń\\n- różności warte 1-barter\\n- ubranie odpowiadające twojemu wyglądowi; możesz zdecydować, czy w jego skład wchodzi również odzież o wartości 1-pancerza (ty ustalasz szczegóły)\\n\\nMała, praktyczna broń (wybierz 1):\\n\\n- rewolwer kalibru .38 (2-rany, bliski, przeładowanie, głośny)\\n- 9mm (2-rany, bliski, głośny)\\n- duży nóż (2-rany, ramię)\\n- obrzyn (3-rany, bliski, przeładowanie, jatka)\\n- paralizator (o-rana, ramię, przeładowanie)\\n',\n",
       " '# TWORZENIE CHOPPERA\\n\\nAby stworzyć swojego choppera, wybierz imię, wygląd, cechy, ruchy, motocykl, sprzęt oraz cechy gangu.\\n\\n## OPIS POSTACI\\n\\nŚwiat Apokalipsy to niedobór wszystkiego, wiesz jak jest.\\nZa mało zdrowej żywności, za mało czystej wody, za mało bezpieczeństwa, za mało światła, za mało elektryczności, za mało dzieci, za mało nadziei.\\n\\nNa szczęście po złotej erze zostały nam dwie rzeczy: mnóstwo benzyny, mnóstwo amunicji.\\nWygląda na to, że pierdolone gnoje nie potrzebowali ich tak bardzo, jak zakładali.\\n\\nWięc, chopper, zapraszam. Wystarczy dla ciebie.\\n\\n## IMIĘ\\n\\nWybierz jedno z poniższych imion:\\n\\n- Pies,\\n- Domino\\n- T-bone\\n- Fetor\\n- Szatan\\n- Lars\\n- Kula\\n- Kość\\n- Pojeb\\n- Karzeł\\n- Strzelec\\n- Diament\\n- Złotko\\n- Partacz\\n- Luzak\\n- Dziecina\\n- Juck\\n- Młot\\n- Gorzała\\n- Snake Eyes\\n- Pinkie\\n- Garota\\n- Blues\\n\\n## WYGLĄD\\n\\nWybierz jedną opcję z każdej kategorii:\\n\\n- Płeć: Mężczyzna, kobieta, dwuznaczny, transgresywny lub niejawny.\\n- Ubiór: bojowy motocyklisty, szpanerski motocyklisty, zniszczony motocyklisty, motocyklisty w stylu sado-maso.\\n- Twarz: ogorzała, kwadratowa, surowa, pociągła, zdefasonowana\\n- Oczy: wąskie, zmrużone, taksujące, znużone, przyjacielskie.\\n- Ciało:  szerokie, smukłe, żylaste, krzepkie, grube\\n\\n## CECHY\\n\\nWybierz jeden zestaw cech:\\n\\n- Spokój+1 Hart+2 Urok−1 Spryt+1 Dziw=0\\n- Spokój+1 Hart+2 Urok+1 Spryt=0 Dziw−1\\n- Spokój+1 Hart+2 Urok=0 Spryt+1 Dziw−1\\n- Spokój+2 Hart+2 Urok−1 Spryt=0 Dziw−1\\n\\n## RUCHY\\n\\nDostajesz wszystkie podstawowe ruchy.\\nDostajesz oba ruchy choppera.\\n\\n### RUCHY CHOPPERA\\n\\n#### Przywódca watahy\\n\\nGdy chcesz narzucić wolę swojemu gangowi, rzuć+hart. Na 10+ wszystkie 3. Na 7–9 wybierz 1:\\n\\n- robią to, co im każesz;\\n- dają sobie spokój z robieniem zadymy;\\n- nie musisz karać nikogo z nich dla przykładu.\\n\\nW przypadku porażki ktoś z gangu podejmuje zdecydowane działanie, by zastąpić cię w roli przywódcy.\\n\\n#### Cholerni złodzieje\\n\\nGdy nakazujesz członkom swojego gangu przetrząsnąć kieszenie i sakwy w poszukiwaniu czegoś, rzuć+hart. Pamiętaj, że ta rzecz powinna być na tyle mała, aby łatwo można było ją ukryć w kieszeni lub plecaku. Na 10+ wygląda na to, że jeden z was ma przy sobie rzecz, której akurat poszukujesz, lub coś bardzo podobnego. Na 7–9 jeden z was ma coś podobnego. Jeśli szukasz czegoś hi-tech, nawet nie sięgaj po kości. W przypadku porażki któreś z was miało właśnie to coś, ale najwyraźniej jakiś dupek wam to ukradł.\\n\\n## SPRZĘT\\n\\n### Ubiór\\n\\nO wartości 1-pancerza lub 2-pancerza.\\n\\nWybierz też 2 sztuki konkretnej broni:\\n\\n- magnum (3-rany, bliski, przeładowanie, głośny)\\n- pistolet maszynowy (2-rany, bliski, automatyczny, głośny)\\n- obrzyn (3-rany, bliski, przeładowanie, jatka)\\n- łom (2-rany, ramię, jatka)\\n- maczeta (3-rany, ramię, jatka)\\n\\n### Motocykl\\n\\n1. Zalety (wybierz 1 lub 2): szybki, wytrzymały, agresywny, mocno podkręcony, wielki, zwrotny.\\n2. Wygląd (wybierz 1 lub 2): opływowy kształt, vintage, mocno odchudzony, rycząca bestia, masywny, muskularny, szpanerski, luksusowy.\\n3. Słabości (wybierz 1): wolny, zaniedbany, cholernie dużo pali, drobny, niestabilny, kapryśny, zawodny.\\n4. Jeśli z jakiegoś powodu potrzebujesz parametrów swojego motocyklu (domyślnie nie potrzebujesz ich), prezentują się one następująco: moc+1, wygląd+1, 1-pancerza, słabość+1.\\n\\n## GANG\\n\\nDomyślnie twój gang składa się z około 15 agresywnych sukinsynów wyposażonych w prowizoryczne pancerze, byle jaką broń i całkowicie pozbawionych dyscypliny (2-rany, gang, mały, bestialski, 1-pancerza).\\n\\nWybierz 2:\\n\\n- Twój gang składa się z około 30 agresywnych sukinsynów. Zmień mały na średni.\\n- Twój gang jest dobrze uzbrojony. +1rana.\\n- Twój gang jest dobrze opancerzony. +1pancerza.\\n- Twój gang jest bardzo zdyscyplinowany. Usuń bestialski.\\n- Twój gang jest koczowniczy: nie potrzebuje stałej bazy, by naprawiać i utrzymywać swoje motocykle w dobrym stanie. Dostaje +mobilny.\\n- Twój gang jest samowystarczalny, potrafi utrzymać się z najazdów i zbieractwa. Dostaje +bogaty.\\n\\nNastępnie wybierz 1:\\n\\n- Motocykle twojego gangu są w złym stanie, trzeba o nie ciągle dbać. Słaby punkt: awarie.\\n- Motocykle twojego gangu są kapryśne i trudne w utrzymaniu. Słaby punkt: uziemienie.\\n- Twój gang ma luźną strukturę, ludzie przychodzą i odchodzą, kiedy chcą. Słaby punkt: dezercja.\\n- Twój gang ma poważny dług u kogoś potężnego. Słaby punkt: zobowiązanie.\\n- Twój gang jest brudny i chorowity. Słaby punkt: choroby.\\n',\n",
       " '# TWORZENIE EGZEKUTORA\\n\\nAby stworzyć swojego egzekutora, wybierz imię, wygląd, cechy, ruchy, sprzęt oraz broń.\\n\\n## OPIS POSTACI\\n\\nŚwiat Apokalipsy jest podły, ohydny i pełen przemocy.\\nPrawo i społeczeństwo upadły. Twoje jest tylko to, co jesteś w stanie utrzymać. Nie ma spokoju.\\nNic nie jest trwałe. Pewne jest tylko to, że tego, co zdołasz cal po calu wyrwać z betonu i brudu, musisz potem bronić mordem i krwią.\\n\\nCzasami oczywisty ruch jest tym właściwym.\\n\\n## IMIĘ\\n\\nWybierz jedno z poniższych imion:\\n\\n- Vonk Rzeźbiarz\\n- Batty\\n- Jonker\\n- A.T.\\n- Rue\\n- Wakeman\\n- Navarre\\n- Man\\n- Kartak\\n- Barbarossa\\n- Keeler\\n- Grekkor\\n- Crille\\n- Doom\\n- Kapelan\\n- Reks\\n- Fido\\n- Łata\\n- Bokser\\n- Doberman\\n- Trey\\n- Zabójca\\n- Burek\\n- Fifi\\n- Puszek\\n- Baron\\n- Wilk\\n- Azor\\n- Maks\\n- Kumpel.\\n\\n## WYGLĄD\\n\\nWybierz jedną opcję z każdej kategorii:\\n\\n- Płeć: Mężczyzna, kobieta, dwuznaczny, transgresywny lub niejawny\\n- Ubiór: niedopasowany pancerz, stary wysłużony pancerz, własnoręcznie wykonany pancerz.\\n- Twarz: pokryta bliznami, tępa, koścista, znużona, zmęczona, zniszczona.\\n- Oczy: obłąkane, wściekłe, mądre, smutne, świńskie oczka, przebiegłe.\\n- Ciało:  twarde, przysadziste, żylaste, poobijane, przesadnie umięśnione, krępe, olbrzymie.\\n\\n## CECHY\\n\\nWybierz jeden zestaw cech:\\n\\n- Spokój+1 Hart+2 Urok−1 Spryt+1 Dziw=0\\n- Spokój−1 Hart+2 Urok−2 Spryt+1 Dziw+2\\n- Spokój+1 Hart+2 Urok−2 Spryt+2 Dziw−1\\n- Spokój+2 Hart+2 Urok−2 Spryt=0 Dziw=0\\n\\n## RUCHY\\n\\nDostajesz wszystkie podstawowe ruchy.\\nWybierz 3 ruchy Egzekutora.\\n\\n### RUCHY EGZEKUTORA\\n\\n#### Zahartowany w boju\\n\\nGdy działasz pod presją, rzuć+hart zamiast rzucać+spokój\\n\\n#### Jebać to\\n\\nUstal swoją drogę ucieczki i rzuć+hart. Na 10+ spieprzasz aż się kurzy. Na 7–9 możesz uciec lub zostać, ale ucieczka będzie cię kosztować: zostaw coś za sobą lub weź coś ze sobą, MC powie ci, co to jest. W przypadku porażki masz przejebane, dorwali cię całkowicie bezbronnego.\\n\\n#### Bitewny instynkt\\n\\nGdy otwierasz swój mózg na działanie psychicznego wiru, rzuć+hart zamiast rzucać+dziw, ale wyłącznie podczas walki.\\n\\n#### Totalny świr\\n\\nDostajesz +1hart (hart+3).\\n\\n#### Przygotowany na wszystko\\n\\nPosiadasz dobrze zaopatrzoną, wysokiej klasy apteczkę. Liczy się jak apteczka anioła (por.) o pojemności 2-zasoby\\n\\n#### Żądza krwi\\n\\nZa każdym razem, gdy zadajesz obrażenia, zadajesz dodatkową +1ranę\\n\\n#### NIE ZADZIERAJ Z SUKINKOTEM\\n\\nPodczas bitwy liczysz się jako gang (3-rany, gang, mały), z pancerzem zależnym od okoliczności.\\n\\n## SPRZĘT\\n\\nDostajesz:\\n\\n- 1 zajebiście wielką broń\\n- 2 sztuki poważnej broni\\n- 1 zapasową broń\\n- pancerz warty 2-pancerza (ty ustalasz szczegóły)\\n- różności warte 1-barter\\n\\n### BROŃ\\n\\n#### Zajebiście wielka broń\\n\\nWybierz 1 z poniższych:\\n\\n- karabin snajperski (3-rany, daleki, hi-tech)\\n- karabin maszynowy (3-rany, bliski/daleki, automatyczny, jatka)\\n- karabin szturmowy (3-rany, bliski, głośny, automatyczny)\\n- automatyczny granatnik (4-rany, bliski, obszarowy, jatka)\\n\\n#### Poważna broń\\n\\nWybierz 2 z poniższych:\\n\\n- karabin myśliwski (2-rany, daleki, głośny)\\n- strzelba (3-rany, bliski, przeładowanie, jatka)\\n- pistolet maszynowy (2-rany, bliski, automatyczny, głośny)\\n- magnum (3-rany, bliski, przeładowanie, głośny)\\n- granatnik (4-rany, bliski, przeładowanie, jatka)\\n- amunicja przeciwpancerna (ppanc), dodaj etykietę \"ppanc\" do wszystkich spluw\\n- tłumik (hi-tech), usuń etykietę \"głośny\" z dowolnej broni\\n\\n#### Broń zapasowa\\n\\nWybierz 1 z poniższych:\\n\\n- 9mm (2-rany, bliski, głośny)\\n- zajebiście wielki nóż (2-rany, ramię)\\n- maczeta (3-rany, ramię, jatka)\\n- mnóstwo noży (2-rany, ramię, nieskończony)\\n- granaty (4-rany, obszarowy, przeładowanie, jatka)\\n',\n",
       " '# TWORZENIE GUBERNTORA\\n\\nAby stworzyć swojego gubernatora, wybierz imię, wygląd, cechy, ruchy, sprzęt oraz posiadłość.\\n\\n## OPIS POSTACI\\n\\nW Świecie Apokalipsy nie istnieje rząd ani zorganizowane społeczeństwo.\\nW złotej erze legend prawdziwi gubernatorzy władali całymi kontynentami, a ich wojny, zamiast po drugiej stronie spalonych ziem, toczone były na drugim końcu\\nświata, kiedyś ich armie liczyły setki tysięcy, ba! – mieli nawet pierdolone okręty,\\nktórymi wozili swoje pierdolone samoloty! A dziś byle kto z bandą egzekutorów\\ni betonowym schronem może nazywać siebie gubernatorem. Pewnie coś o tym wiesz.\\n\\n## IMIĘ\\n\\n- Nbeke\\n- Allison\\n- Kobe\\n- Kreider\\n- Tranh\\n- Marco\\n- Sadiq\\n- Vega\\n- Lang\\n- Lin\\n- Jackson\\n- Madame\\n- Barbecue\\n- Babka\\n- Wuj\\n- Proboszcz\\n- Barnum\\n- Pułkownik\\n- Matka Przełożona\\n\\n## WYGLĄD\\n\\nWybierz jedną opcję z każdej kategorii:\\n\\n- Płeć: Mężczyzna, kobieta, dwuznaczny, transgresywny lub niejawny.\\n- Ubiór: luksusowy, wyzywający, fetyszystyczny, codzienny, wojskowy, mundur.\\n- Twarz:  kwadratowa, poważna, okrutna, delikatna, arystokratyczna, cudowna.\\n- Oczy: wyluzowane, rozkazujące, ospałe, bystre, wyrozumiałe, szczodre.\\n- Ciało:  masywne, delikatne, żylaste, grube, wysokie i szczupłe, zmysłowe.\\n\\n## CECHY\\n\\nWybierz jeden zestaw cech:\\n\\n- Spokój−1 Hart+2 Urok+1 Spryt+1 Dziw=0\\n- Spokój+1 Hart+2 Urok+1 Spryt+1 Dziw−2\\n- Spokój−2 Hart+2 Urok=0 Spryt+2 Dziw=0\\n- Spokój=0 Hart+2 Urok+1 Spryt−1 Dziw+1\\n\\n## RUCHY\\n\\nDostajesz wszystkie podstawowe ruchy.\\nDostajesz oba ruchy gubernatora,\\n\\n### RUCHY GUBERNATORA\\n\\n#### Przywództwo\\n\\nGdy twój gang walczy dla ciebie, rzuć+hart. Na 10+ zatrzymaj 3.\\nNa 7–9 zatrzymaj 1. Podczas walki możesz wydać 1 za 1, żeby twój gang:\\n\\n- przeprowadził silne natarcie;\\n- przetrzymał silne natarcie wroga;\\n- wykonał zorganizowany odwrót;\\n- okazał litość pokonanym wrogom;\\n- walczył do upadłego.\\n\\nW przypadku porażki twój gang odwraca się od ciebie lub stara się wydać cię\\nwrogowi.\\n\\n#### Bogactwo\\n\\nJeśli twoja posiadłość jest bezpieczna, a rządy nie są zagrożone,\\nna początku sesji rzuć+hart. Na 10+ uzyskujesz nadwyżkę, dostępną od ręki, na\\nczas tej sesji. Na 7–9 uzyskujesz nadwyżkę, ale wybierz 1 potrzebę. W przypadku\\nporażki lub jeśli twoja posiadłość jest w niebezpieczeństwie albo twoje rządy są\\nzagrożone, posiadłość jest w potrzebie. Dokładne wartości nadwyżki i potrzeb\\nzależą od twojej posiadłości.\\n\\n## SPRZĘT\\n\\nOprócz posiadłości opisz swój ubiór.\\nMożesz mieć na własny użytek (za pozwoleniem MC) kilka sztuk niespecjalistycznego sprzętu lub broni z dowolnej innej karty postaci.\\n\\n### POSIADŁOŚĆ\\n\\nDomyślnie twoja posiadłość to:\\n\\n- 75–150 dusz\\n- Fuchy: polowanie, uprawy, szabrownictwo (nadwyżka: 1-barter, potrzeba: +głód)\\n- Prowizoryczne zabudowania z betonu, blachy i drutu zbrojeniowego. Twój gang otrzymuje +1pancerza, kiedy broni się w obrębie posiadłości.\\n- Zbrojownia wyposażona w prowizoryczną i znaleźną broń.\\n- Gang składający się z około 40 agresywnych ludzi (3-rany, gang, średni, niezdyscyplinowany, 1-pancerza).\\n\\nWybierz 4:\\n\\n- Twoja społeczność jest duża, około 200–300 dusz. Nadwyżka: +1barter, potrzeba: +choroby.\\n- Twoja społeczność jest mała, 50–60 dusz. Potrzeba: niepokój zamiast potrzeby: głód.\\n- Fuchy: dodaj dochodowe najazdy. Nadwyżka: +1barter, potrzeba: +odwet.\\n- Fuchy: dodaj pobieranie haraczu za ochronę. Nadwyżka: +1barter, potrzeba: +zobowiązanie.\\n- Fuchy: dodaj fabrykę. Nadwyżka: +1barter, potrzeba: +bezczynność.\\n- Fuchy: dodaj tętniące życiem powszechnie znane targowisko. Nadwyżka: +1barter, potrzeba: +bezczynność.\\n- Twój gang jest duży zamiast średni, liczy około 60 agresywnych ludzi.\\n- Twój gang jest bardzo zdyscyplinowany. Usuń niezdyscyplinowany.\\n- Twoja zbrojownia jest zasobna i zawiera wysokiej klasy broń. Twój gang zadaje +1ranę.\\n- Twoje zabudowania są potężne i wysokie, wzniesione z kamienia i żelaza. Twój gang otrzymuje +2pancerza, kiedy broni się w obrębie posiadłości.\\n\\nNastępnie wybierz 2:\\n\\n- Twoja społeczność jest brudna i chorowita. Potrzeba: +choroby.\\n- Twoja społeczność jest leniwa i odurzona narkotykami. Potrzeba: +klęska głodu.\\n- Twoja społeczność jest zdeprawowana i zepsuta. Nadwyżka: −1barter, potrzeba: +bestialstwo.\\n- Twoja posiadłość płaci haracz za ochronę. Nadwyżka: −1barter, potrzeba: +odwet.\\n- Twój gang jest mały zamiast średni, tylko 10–20 agresywnych ludzi.\\n- Twój gang to stado pierdolonych hien. Potrzeba: +bestialstwo.\\n- Twoja zbrojownia jest do dupy. Twój gang zadaje −1ranę.\\n- Twoja posiadłość to parę namiotów, budek i drewniane ściany. Twój gang nie otrzymuje żadnych premii do pancerza, gdy broni posiadłości.\\n',\n",
       " '# TWORZENIE GURU\\n\\nAby stworzyć swojego guru, wybierz imię, wygląd, cechy, ruchy oraz wyznawców.\\n\\n## OPIS POSTACI\\n\\nTeraz powinno być już jasne jak słońce, że bogowie opuścili Świat Apokalipsy.\\nMoże w złotej erze, z tym ich jednym narodem i bogiem nad nim, w którym pokładali nadzieję, może wtedy bogowie istnieli. Nie mam cholernego pojęcia.\\nWiem tyle, że co było, nie wróci.\\n\\nMyślę sobie, że kiedy ci wszyscy pojebani guru mówią o „bogach”, mają na myśli\\nmentalny wyziew, pozostałość po eksplozji psychicznej nienawiści i desperacji, z którego narodził się Świat Apokalipsy. To właśnie prawdziwy bóg naszych czasów, przyjaciele.\\n\\n## IMIĘ\\n\\nWybierz jedno z poniższych imion:\\n\\n- Wizja\\n- Nadzieja\\n- Pył\\n- Prawda\\n- Znajda\\n- Zawsze\\n- Zguba\\n- Potrzeba\\n- Pragnienie\\n- Jasna\\n- Smutek\\n- Koń\\n- Królik\\n- Pstrąg\\n- Kot\\n- Pająk\\n- Wąż\\n- Nietoperz\\n- Jaszczurka\\n- Szakal\\n- Wróbel\\n- Skowronek.\\n\\n## WYGLĄD\\n\\nWybierz jedną opcję z każdej kategorii:\\n\\n- Płeć: Mężczyzna, kobieta, dwuznaczny, transgresywny lub niejawny\\n- Ubiór: podarte szaty, formalne szaty, ubogie szaty, fetyszystyczne szaty, futurystyczne szaty.\\n- Twarz: niewinna, brudna, zdeterminowana, szczera, sroga, ascetyczna.\\n- Oczy: hipnotyczne, nieobecne, wyrozumiałe, podejrzliwe, szczere, płonące.\\n- Ciało:  kościste, tyczkowate, delikatne, wysportowane, pełne gracji, grube.\\n\\n## CECHY\\n\\nWybierz jeden zestaw cech:\\n\\n- Spokój−1 Hart+2 Urok+1 Spryt+1 Dziw=0\\n- Spokój+1 Hart+2 Urok+1 Spryt+1 Dziw−2\\n- Spokój−2 Hart+2 Urok=0 Spryt+2 Dziw=0\\n- Spokój=0 Hart+2 Urok+1 Spryt−1 Dziw+1\\n\\n## RUCHY\\n\\nDostajesz wszystkie podstawowe ruchy.\\n\\nDostajesz koło fortuny, następnie wybierz 2 ruchy guru.\\n\\n### RUCHY GURU\\n\\n#### Koło fortuny\\n\\nnadwyżka i potrzeba zależą od twoich wyznawców. Na początku sesji rzuć+fortuna. Na 10+ twoi wyznawcy mają nadwyżkę. Na 7–9 również mają nadwyżkę, ale musisz wybrać 1 potrzebę. W przypadku porażki twoi wyznawcy są w potrzebie. Jeśli ich nadwyżka zawiera wartości takie jak 1-barter lub 2-barter, będzie to twój udział w zyskach.\\n\\n#### Szał\\n\\ngdy przekazujesz prawdę tłumowi, rzuć+dziw. Na 10+ zatrzymaj 3. Na 7–9\\nzatrzymaj 1. Możesz wydać 1 za 1, żeby tłum:\\n\\n- sprowadził ludzi do ciebie;\\n- przyniósł ci wszystkie swoje drogocenne rzeczy;\\n- zjednoczył się i walczył dla ciebie jako gang (2-rany, 0-pancerza, odpowiednia wielkość);\\n- pogrążył się w orgii niepohamowanych emocji: seks, lament, walka, dzielenie się, świętowanie – twój wybór;\\n- spokojnie rozszedł się.\\n\\nW przypadku porażki tłum zwraca się przeciwko tobie.\\n\\n#### Charyzmatyczny mówca\\n\\nGdy manipulujesz kimś, rzuć+dziw zamiast rzucać+urok.\\n\\n#### Nawiedzony pojeb\\n\\nDostajesz +1dziw (dziw+3).\\n\\n#### Spojrzenie w głąb duszy\\n\\nGdy pomagasz lub przeszkadzasz komuś, rzuć+dziw zamiast rzucać+Hx.\\n\\n#### Boska protekcja\\n\\nTwoi bogowie chronią cię, dając ci 1-pancerza. Jeśli nosisz pancerz, użyj go zamiast tego, premie się nie sumują.\\n\\n## SPRZĘT\\n\\nDostajesz:\\n\\nOprócz swoich wyznawców opisz swój ubiór.\\n\\nDostajesz również różności warte 2-barter. Zapomnij jednak o jakimkolwiek sprzęcie.\\n\\n### WYZNAWCY\\n\\nDomyślnie masz około 20 wyznawców, lojalnych, ale nie fanatycznych. Mają oni swoje własne życie i swoje własne problemy, są też ściśle powiązani z lokalną społecznością (fortuna+1, nadwyżka: 1-barter, potrzeba: dezercja).\\n\\nUstal, kim są:\\n\\n- twój kult\\n- twoja rodzina\\n- twoi uczniowie\\n- twój krąg\\n- twój personel\\n- twoja świta\\n\\nJeśli podróżujesz, zdecyduj, czy wyznawcy podążają za tobą, czy jednak zostają w społeczności, z której się wywodzą.\\n\\nWybierz 2:\\n\\n- Twoi wyznawcy są ci bardzo oddani. Nadwyżka: +1barter, potrzeba: głód zamiast potrzeby: dezercja.\\n- Twoi wyznawcy prowadzą lukratywne interesy. +1fortuna.\\n- Zgromadzenie twoich wyznawców stanowi niezwykle silną psychiczną antenę. Nadwyżka: +przepowiednia.\\n- Twoi wyznawcy często świętują. Nadwyżka: +impreza.\\n- Twoi wyznawcy są wnikliwi i lubią dyskutować. Nadwyżka: +doradztwo.\\n- Twoi wyznawcy są sumienni i pracowici. Nadwyżka: +1barter.\\n- Twoi wyznawcy chętnie i entuzjastycznie rekrutują nowych członków. Nadwyżka: +wzrost.\\n\\nWybierz 2:\\n\\n- Posiadasz niewielu wyznawców, 10 lub mniej. Nadwyżka: −1 barter.\\n- Twoi wyznawcy nie należą do ciebie, raczej ty należysz do nich. Potrzeba: osąd zamiast potrzeby: dezercja.\\n- Twoi wyznawcy całkowicie na tobie polegają. Potrzeba: +desperacja.\\n- Twoi wyznawcy są uzależnieni od narkotyków. Nadwyżka: +otępienie.\\n- Twoi wyznawcy pogardzają modą, luksusem i normami społecznymi. Potrzeba: +choroby.\\n- Twoi wyznawcy pogardzają prawem, pokojem, zdrowym rozsądkiem i całym społeczeństwem. Nadwyżka: +przemoc.\\n- Twoi wyznawcy są zdeprawowani i zepsuci. Potrzeba: +bestialstwo.\\n',\n",
       " '# TWORZENIE KIEROWCY\\n\\nAby stworzyć swojego kierowcę, wybierz imię, wygląd, cechy, ruchy, sprzęt, auto\\n\\n## OPIS POSTACI\\n\\nWraz z nadejściem apokalipsy nastąpił rozpad infrastruktury złotej ery.\\nDrogi wybrzuszyły się i popękały. Potrzaskane autostrady przestały łączyć ze sobą miasta, które po odcięciu życiodajnej pępowiny wrzały niczym zmiażdżone mrowiska. Potem płonęły. A w końcu upadły.\\n\\nNieliczni nadal pamiętają tamte dni: horyzont czerwony od ognia płonącej cywilizacji, blask zagłady, który przyćmił księżyc i gwiazdy, oraz dym zakrywający słońce.\\n\\nW Świecie Apokalipsy horyzont jest czarny. I nie prowadzi do niego żadna z dróg.\\n\\n## IMIĘ\\n\\nWybierz jedno z poniższych imion:\\n\\n- Lauren\\n- Audrey\\n- Farley\\n- Sammy\\n- Katherine\\n- Marilyn\\n- James\\n- Bridget\\n- Paul\\n- Annette\\n- Marlene\\n- Frankie\\n- Marlon\\n- Kim\\n- Errol\\n- Humphrey\\n- Phoenix\\n- Mustang\\n- Impala\\n- Suv\\n- Cougar\\n- Cobra\\n- Dart\\n- Gremlin\\n- Grand Cherokee\\n- Jag\\n- Beemka\\n\\n## WYGLĄD\\n\\nWybierz jedną opcję z każdej kategorii:\\n\\n- Płeć: Mężczyzna, kobieta, dwuznaczny lub transgresywny.\\n- Ubiór: vintage, codzienny, roboczy, skórzany, szpanerski i zniszczony.\\n- Twarz: przystojna, cudowna, poważna, delikatna, zmęczona, krzywa.\\n- Oczy: : wyluzowane, zmęczone, surowe, smutne, lodowate, blade\\n- Ciało: szczupłe, pulchne, przysadziste, masywne, wysokie, silne.\\n\\n## CECHY\\n\\nWybierz jeden zestaw cech:\\n\\n- Spokój=0 Hart−1 Urok+1 Spryt+2 Dziw=0\\n- Spokój+1 Hart=0 Urok=0 Spryt+2 Dziw−1\\n- Spokój=0 Hart+1 Urok−1 Spryt+2 Dziw−1\\n- Spokój+1 Hart−2 Urok=0 Spryt+2 Dziw+1\\n\\n## RUCHY\\n\\nDostajesz wszystkie podstawowe ruchy.\\n\\nDostajesz **Mistrza kierownicy**, następnie wybierz jeszcze jeden ruch kierowcy.\\n\\n### RUCHY KIEROWCY\\n\\n#### Mistrz kierownicy\\n\\ngdy siedzisz za kółkiem i:\\n\\n- robisz coś pod presją, dodaj moc twojego auta do swojego rzutu.\\n- chcesz przejąć coś siłą, dodaj moc twojego auta do swojego rzutu.\\n- grozisz komuś przemocą, dodaj moc twojego auta do swojego rzutu.\\n- chcesz kogoś uwieść lub zmanipulować, dodaj wygląd twojego auta do swojego rzutu.\\n- komuś pomagasz lub przeszkadzasz, dodaj moc twojego auta do swojego rzutu.\\n- ktoś ci przeszkadza, dodaj słabość twojego auta do jego rzutu.\\n\\n#### Świetny w zwarciu\\n\\ngdy robisz coś pod presją, rzuć+spryt zamiast rzucać+spokój.\\n\\n#### Wrodzona intuicja\\n\\ngdy otwierasz swój mózg na psychiczny wir, rzuć+spryt zamiast rzucać+dziw.\\n\\n#### Szalony sukinkot\\n\\nkiedy dużo ryzykujesz i stawiasz wszystko na jedną kartę, dostajesz +1pancerza. Jeśli przy okazji dowodzisz gangiem lub konwojem, oni również dostają +1pancerza.\\n\\n#### Kolekcjoner\\n\\ndostajesz 2 dodatkowe auta.\\n\\n#### Mam w garażu czołg\\n\\ndostajesz dodatkowe auto. Dodaj mu stacjonarny karabin maszynowy (3-rany, bliski/daleki, obszarowy, jatka) lub automatyczny granatnik (4-rany, bliski, obszarowy, jatka). Dopisz mu również +1pancerza.\\n\\n## SPRZĘT\\n\\nDostajesz:\\n\\n- 1 poręczną broń\\n- różności warte 2-barter\\n- ubranie odpowiadające twojemu wyglądowi (ty opisujesz)\\n\\nPoręczna broń (wybierz 1):\\n\\n- rewolwer kalibru .38 (2-rany, bliski, przeładowanie, głośny)\\n- 9mm (2-rany, bliski, głośny)\\n- duży nóż (2-rany, ramię)\\n- obrzyn (3-rany, bliski, przeładowanie, jatka)\\n- maczeta (3-rany, ramię, jatka)\\n- magnum (3-rany, bliski, przeładowanie, głośny)\\n\\n### AUTO\\n\\nWybierz jeden z czterech profili:\\n\\n- Moc+2 Wygląd+1 1-Pancerza Słabość+1\\n- Moc+2 Wygląd+2 0-Pancerza Słabość+1\\n- Moc+1 Wygląd+2 1-Pancerza Słabość+1\\n- Moc+2 Wygląd+1 2-Pancerza Słabość+2\\n\\n#### Typ\\n\\nWybierz jeden typ auta:\\n\\nCoupe, kompakt, sedan, jeep, pickup, van, ciężarówka, bus, limuzyna, ambulans, auto z napędem na cztery koła, ciągnik, maszyna budowlana / samochód budowlany.\\n\\n#### Zalety\\n\\nWybierz tyle opcji, ile wynosi moc twojego auta.\\n\\nWybierz jego zaletę lub zalety:\\n\\nSzybki, wytrzymały, agresywny, podkręcony, wielki, terenowy, zwrotny, kompatybilny, pojemny, niezawodny, łatwy w naprawie.\\n\\n#### Wygląd\\n\\nWybierz tyle opcji, ile wynosi wygląd twojego\\n\\nUstal jego wygląd:\\n\\nOpływowy kształt, vintage, w idealnym stanie, potężny, luksusowy, szpanerski, muskularny, dziwaczny, ładny, ręczne wykończenie, kolce i ochronne płyty, jaskrawy.\\n\\n#### Słabości\\n\\nWybierz tyle opcji, ile słabości posiada twoje auto.\\n\\nWybierz jego słabość lub słabości:\\n\\nWolny, delikatna budowa, zaniedbany, kapryśny, ciasny, dużo pali, zawodny, głośny, skoki prędkości.\\n',\n",
       " '# TWORZENIE MUZY\\n\\nAby stworzyć swoją muzę, wybierz imię, wygląd, cechy, ruchy oraz sprzęt.\\n\\n## OPIS POSTACI\\n\\nNawet w plugawym Świecie Apokalipsy istnieje jedzenie, które nie wyśle cię na tamten świat, muzyka, która nie jest śmiechem hien, myśli pozbawione lęku, ciała, które nie są mięsem, seks inny niż parzenie się w rui, taniec, który jest prawdziwy.\\nJest coś jeszcze prócz smrodu, dymu, wściekłości i krwi.\\n\\nPiękno w tym szkaradnym świecie jest domeną muz. Zechcą się z tobą podzielić? Co im zaoferujesz?\\n\\n## IMIĘ\\n\\nWybież jedno z poniższych imion:\\n\\n- Październik\\n- Wenus\\n- Merkury\\n- Diuna\\n- Półmrok\\n- Czapla\\n- Śliwka\\n- Orchidea\\n- Sztorm\\n- Świt\\n- Miecz\\n- Północ\\n- Skóra\\n- Szron\\n- Trawka\\n- Czerwiec\\n- Sopel\\n- Mewa\\n- Lawenda\\n- Pikanteria\\n- Gazela\\n- Lew\\n- Paw\\n- Gracja\\n\\n## WYGLĄD\\n\\n- Płeć: kobieta, dwuznaczny, transgresywny lub androgyniczny\\n- Ubiór: wyzywający, szpanerski i zniszczony, luksusowy, fetyszystyczny, codzienny.\\n- Twarz: oszałamiająca, słodka, dziwna, śliczna, piękna\\n- Oczy: śmiejące się, kpiące, ciemne, umalowane, zatroskane, pociągające, jasne, wyluzowane.\\n- Dłonie: silne, ekspresywne, szybkie, zgrubiałe, pewne\\n- Ciało:  szczupłe, wyrzeźbione,grube, nienaturalne, młode, ponętne.\\n\\n## CECHY\\n\\nWybierz jeden zestaw cech:\\n\\n- Spokój+1 Hart−1 Urok+2 Spryt+1 Dziw=0\\n- Spokój=0 Hart=0 Urok+2 Spryt=0 Dziw+1\\n- Spokój−1 Hart=0 Urok+2 Spryt+2 Dziw−1\\n- Spokój+1 Hart+1 Urok+2 Spryt+1 Dziw−2\\n\\n## RUCHY\\n\\nDostajesz wszystkie podstawowe ruchy.\\nWybierz 2 ruchy muzy\\n\\n### RUCHY MUZY\\n\\n#### Zapierająca dech w piersiach\\n\\ndostajesz +1urok (urok+3)\\n\\n#### Zagubieni\\n\\nKiedy szepczesz czyjeś imię w głąb psychicznego wiru, rzuć+dziw. W przypadku sukcesu ta osoba przybędzie do ciebie (nie trzeba wyjaśniać, jak to dokładnie się stało). Na 10+ dostajesz +1 do następnego rzutu przeciw tej osobie. W przypadku porażki MC zada ci 3 pytania. Odpowiedz na nie zgodnie z prawdą.\\n\\n#### Boski artysta\\n\\nGdy uprawiasz wybraną przez siebie sztukę – dowolny akt ekspresji lub kultury – albo gdy prezentujesz swoje dzieło przed publicznością, rzuć+urok. Na 10+ zatrzymaj 3. Na 7–9 zatrzymaj 1. Wydaj 1, by wskazać postać niezależną spośród swojej publiczność i wybrać 1:\\n\\n- ta osoba chce się ze mną spotkać;\\n- ta osoba chce skorzystać z moich usług;\\n- ta osoba mnie kocha;\\n- ta osoba chce ofiarować mi prezent;\\n- ta osoba podziwia mojego patrona.\\n\\nW przypadku porażki nie otrzymujesz żadnych korzyści, ale nie cierpisz z powodu ran czy straconej okazji. Po prostu wypadasz bardzo dobrze, to wszystko.\\n\\n#### Zniewalający urok\\n\\nGdy zdejmujesz z siebie lub z kogoś innego dowolną część ubrania, wszyscy, którzy cię widzą, nie są w stanie oderwać od ciebie wzroku – i nie są w stanie robić nic więcej. Skupiasz na sobie absolutnie całą ich uwagę. Jeśli chcesz, możesz uwolnić wybrane osoby spod działania swojego wpływu.\\n\\n#### Hipnotyzujące spojrzenie\\n\\nGdy masz czas i jesteś z kimś na osobności, ta osoba dostaje obsesji na twoim punkcie. Rzuć+urok. Na 10+ zatrzymaj 3. Na 7–9 zatrzymaj 1. Ta osoba może wydać twoje zatrzymania 1 za 1, jeśli:\\n\\n- da ci to, czego pragniesz;\\n- działa jako twoje oczy i uszy;\\n- walczy w twojej obronie;\\n- zrobi to, co jej każesz.\\n\\nPostacie niezależne nie mogą działać przeciwko tobie, póki masz na nie zatrzymania. W przypadku postaci graczy możesz w dowolnej chwili wydać zatrzymania 1 za 1:\\n\\n- myśli o tobie rozpraszają ich – działają pod presją;\\n- myśli o tobie inspirują ich – dostają +1 w tej chwili.\\n\\nW przypadku porażki ta osoba dostaje na ciebie 2 zatrzymania, które może wydać na dokładnie tych samych warunkach.\\n\\n## SPRZĘT\\n\\nDostajesz:\\n\\n- 1 elegancką broń\\n- 2 sztuki luksusowego sprzętu\\n- różności warte 1-barter\\n- ubranie odpowiadające twojemu wyglądowi (ty ustalasz szczegóły)\\n\\nElegancka broń (wybierz 1):\\n\\n- miniaturowy pistolet (2-rany, bliski, przeładowanie, głośny)\\n- zdobiony sztylet (2-rany, ramię, wartościowy)\\n- ukryte ostrza (2-rany, ramię, nieskończone)\\n- zdobiony miecz (3-rany, ramię, wartościowy)\\n- zabytkowy rewolwer (2-rany, bliski, przeładowanie, głośny, wartościowy)\\n\\nLuksusowy sprzęt (wybierz 2):\\n\\n- zabytkowe monety (zakładane, wartościowe) Dzięki wywierconym otworom mogą być używane jako biżuteria.\\n- okulary (zakładane, wartościowe) Możesz ich użyć, żeby dostać +1spryt, kiedy twój wzrok ma znaczenie, ale jeśli się na to zdecydujesz, bez nich dostaniesz −1spryt, kiedy twój wzrok ma znaczenie.\\n- długi piękny płaszcz (zakładany, wartościowy)\\n- niesamowite tatuaże (implant)\\n- kosmetyki do włosów i skóry (nakładane, wartościowe) Mydełka, pudry i cienie, farby do włosów, kremy, odżywki do skóry i włosów. Po użyciu dostajesz +1 do następnego rzutu na urok.\\n- zwierzę (wartościowe, żywe)\\n\\nTy wybierasz i opisujesz.\\n',\n",
       " '# TWORZENIE OPERATORA\\n\\nAby stworzyć swojego operatora, wybierz imię, wygląd, cechy, ruchy, fuchy, ekipę, kontakty, sprzęt\\n\\n## OPIS POSTACI\\n\\nW Świecie Apokalipsy musisz pracować z tym, co masz pod ręką, prawda?\\nZ jednej strony masz Dremmera i Wora, łowcę niewolników i jego cholerną prawą rękę, którzy prowadzą najazdy ze swojej twierdzy z betonu i stali.\\nKilka mil dalej zżerani przez choroby rzeczni ludzie płyną na swych barkach w dół i w górę trującej rzeki.\\nTrochę dalej natra\\ue014sz na Latarnię: grupę mężczyzn i kobiet ze zdziwaczałego kultu głodu, którzy zabarykadowali się niedaleko spalonych ruin.\\n\\nA ty chcesz żyć po swojemu i mieć trochę wolności – musisz jednak pracować z tym, co masz. I, cholera, nie wygląda to różowo.\\n\\n## IMIĘ\\n\\nWybierz jedno z poniższych imion:\\n\\n- Berg\\n- Waters\\n- Lafferty\\n- Ebbs\\n- Wilson\\n- Marshall\\n- Dolarhyde\\n- Jezus\\n- Bendrix\\n- Proust\\n- Steed\\n- Neron\\n- Amalia\\n- Katinka\\n- Dagny\\n- Fox\\n- Christine\\n- Clover\\n- Olimpias\\n- Illeana\\n- Franky\\n- Sway\\n- Dopalacz\\n- Cash\\n\\n## WYGLĄD\\n\\n- Płeć: Mężczyzna, kobieta, dwuznaczny lub transgresywny.\\n- Ubiór: codzienny, roboczy, vintage, charakterystyczny, łachmany\\n- Twarz:  zmęczona, ładna, uczciwa, surowa, poważna, szczera.\\n- Oczy: taksujące, ciepłe, bystre, ostrożne, chłodne, znużone\\n- Ciało:  umięśnione, smukłe, pulchne, pełne energii, krzepkie.\\n\\n## CECHY\\n\\nWybierz jeden zestaw cech:\\n\\n- Spokój+2 Hart=0 Urok−1 Spryt+2 Dziw−1\\n- Spokój+2 Hart+1 Urok+1 Spryt=0 Dziw−1\\n- Spokój+2 Hart−1 Urok+1 Spryt+1 Dziw=0\\n- Spokój+2 Hart+1 Urok=0 Spryt+1 Dziw−1\\n\\n## RUCHY\\n\\nDostajesz wszystkie podstawowe ruchy.\\nDostajesz **brudną robotę**, następnie wybierz jeszcze jeden ruch operatora.\\n\\n### RUCHY OPERATORA\\n\\n#### Brudna robota\\n\\ndostajesz 2-operacje. Kiedy dochodzi do przestoju w grze\\noraz pomiędzy sesjami, wybierz fuchy, które zamierzasz zrealizować. Nie możesz\\nwybrać więcej fuch, niż masz operacji. Rzuć+spokój. Na 10+ dostajesz zysk z każdej\\nwybranej fuchy. Na 7–9 dostajesz zysk z minimum 1 fuchy. Jeśli wybierzesz więcej,\\n1 z nich kończy się katastrofą, a pozostałe przynoszą zysk. W przypadku porażki\\n– same katastrofy. Fuchy, których nie wykonujesz, nie przynoszą zysku i nie\\npowodują katastrofy. Za każdym razem, gdy zyskujesz nową fuchę, dostajesz też\\n+1operację.\\n\\n#### Własna klinika\\n\\nPosiadasz własny szpital, warsztat wyposażony w aparaturę do podtrzymywania życia, laboratorium chemiczne oraz dwuosobowy personel (ekipa) (Shigusa i Mox, pasuje?). W klinice możesz pracować nad pacjentami tak, jak Technik pracuje nad technologią (por.).\\n\\n#### Czy te oczy mogą kłamać\\n\\njeśli chcesz uwieść lub zmanipulować postać\\ninnego gracza, rzuć+Hx zamiast rzucać+urok. W przypadku postaci niezależnych\\nrzuć+spokój zamiast rzucać+urok.\\n\\n#### Wyjście awaryjne\\n\\nustal swoją drogę ucieczki i rzuć+spokój. Na 10+ spieprzasz\\naż się kurzy. Na 7–9 możesz uciec lub zostać, ale ucieczka będzie cię kosztować:\\nzostaw coś za sobą lub weź coś ze sobą, MC powie ci, co to jest. W przypadku\\nporażki masz przejebane, dorwali cię całkowicie bezbronnego.\\n\\n#### Oportunista\\n\\ngdy przeszkadzasz komuś, kto wykonuje rzut, rzuć+spokój\\nzamiast rzucać+Hx. Dupek z ciebie\\n\\n#### Reputacja\\n\\ngdy napotkasz na swojej drodze kogoś istotnego (ty decydujesz),\\nrzuć+spokój. W przypadku sukcesu ta osoba słyszała o tobie i określasz, co o tobie\\nsłyszała, a MC zadba o to, żeby zareagowała w odpowiedni sposób. Na 10+ dostajesz\\n+1 do następnego rzutu, kiedy wchodzisz z nią w interakcję. W przypadku porażki\\nta osoba słyszała coś o tobie, ale to MC określa co.\\n\\n## SPRZĘT\\n\\nDostajesz:\\n\\n- 9mm (2-rany, bliski, głośny) lub broń-wizytówkę (ustal to z MC)\\n- różności warte 1-barter\\n- ubranie odpowiadające twojemu wyglądowi; możesz zdecydować, czy w jego skład wchodzi również odzież o wartości 1-pancerza (ty ustalasz szczegóły)\\n\\n## FUCHY\\n\\nWybierz 3 płatne fuchy:\\n\\n- dostawy (1-barter/napadnięci)\\n- dotrzymywanie towarzystwa (1-barter/uwikłani)\\n- infiltracja (1-barter/przyłapani)\\n- nadzór (1-barter/przechytrzeni)\\n- najazd (1-barter/osaczeni)\\n- ochrona osobista (1-barter/osaczeni)\\n- ochrona terenu (2-barter/in\\ue014ltracja)\\n- pieprzenie (2-barter/uwikłani)\\n- pośrednictwo (1-barter/wystawieni)\\n- prace techniczne (2-barter/wystawieni)\\n- uczciwa praca (1-barter/zubożali)\\n- wymuszenie (1-barter/obaleni)\\n- zabójstwo na zlecenie (3-barter/osaczeni)\\n- zbieractwo (1-barter/zubożali)\\n\\nWybierz 1 zobowiązanie:\\n\\n- unikanie kogoś (radzisz sobie wyjątkowo dobrze / dopada cię, gdy właśnie jesteś w kłopotach)\\n- spłata długów (nadążasz z opłatami / zalegasz z opłatami)\\n- zemsta (dokopujesz komuś / zostajesz upokorzony)\\n- ochranianie kogoś (nic im się nie stało / zniknęli)\\n- w pogoni za luksusem (otacza cię piękno / wpadasz w kłopoty)\\n- zachowanie twarz (dotrzymujesz słowa i zachowujesz twarz / łamiesz zasady)\\n- poszukiwanie odpowiedzi (masz nowe informacje / trafiasz za fałszywy trop)\\n',\n",
       " '# TWORZENIE PSYCHOLA\\n\\nAby stworzyć swojego psychola, wybierz imię, wygląd, cechy, ruchy oraz sprzęt.\\n\\n## OPIS POSTACI\\n\\nPsychole są najbardziej popierdolonymi psychicznymi mózgojebami w Świecie Apokalipsy.\\nKontrolujący umysły, władcy marionetek; czarne serca, martwe dusze, puste oczy. Zza granicy zmysłów wpatrują się w ciebie i szepczą ci wprost do mózgu.\\nZacisną soczewki na twoich oczach i odczytają wszystkie twoje sekrety.\\n\\nSą tego typu stosownym dodatkiem, bez którego żadna porządna posiadłość nie może się obejść.\\n\\n## IMIĘ\\n\\nWybierz jedno z poniższych imion:\\n\\n- Smith\\n- Jones\\n- Jackson\\n- Marsh\\n- Lively\\n- Burroughs\\n- Gritch\\n- Joyette\\n- Iris\\n- Marie\\n- Amiette\\n- Suselle\\n- Kybele\\n- Choroba\\n- Grzech\\n- Urok\\n- Litość\\n- Szyna\\n- Zmierzch\\n\\n## WYGLĄD\\n\\nWybierz jedną opcję z każdej kategorii:\\n\\n- Płeć: Mężczyzna, kobieta, dwuznaczny, transgresywny lub niejawny.\\n- Ubiór: elegancki i formalny, szpitalny, fetyszystyczny, ochronny niedostosowany do obecnego otoczenia.\\n- Twarz: pokryta bliznami, gładka, blada, koścista, pulchna i spocona, słodka.\\n- Oczy: łagodne, martwe, przeszywające, zatroskane, blade, puste, wilgotne.\\n- Ciało:  nienaturalnie powykrzywiane, delikatne, drobne, okaleczone, grube.\\n\\n## CECHY\\n\\nWybierz jeden zestaw cech:\\n\\n- Spokój+1 Hart+1 Urok−2 Spryt+1 Dziw+2\\n- Spokój=0 Hart=0 Urok+1 Spryt=0 Dziw+2\\n- Spokój+1 Hart−2 Urok−1 Spryt+2 Dziw+2\\n- Spokój+2 Hart−1 Urok−1 Spryt=0 Dziw+2\\n\\n## RUCHY\\n\\nDostajesz wszystkie podstawowe ruchy.\\nWybierz 2 ruchy psychola.\\n\\n### RUCHY PSYCHOLA\\n\\n#### Nienaturalna fiksacja żądzy\\n\\nkiedy chcesz kogoś uwieść, rzuć+dziw zamiast rzucać+urok.\\n\\n#### Odbiór fal mózgowych\\n\\nkiedy czytasz kogoś, rzuć+dziw zamiast rzucać+spryt. Ofiara musi cię widzieć, ale nie musicie wchodzić w żadną interakcję.\\n\\n#### Nadnaturalne dostrajanie mózgu\\n\\n dostajesz +1dziw (dziw+3).\\n\\n#### Głębokie skanowanie mózgu\\n\\nkiedy poświęcasz czas na fizyczną bliskość z drugą osobą – wzajemną bliskość, gdy ja obejmujesz, lub jednostronną, gdy na przykład jest przywiązana do stołu – możesz przeczytać tę osobę dokładniej niż zwykle.\\nRzuć+dziw. Na 10+ zatrzymaj 3. Na 7–9 zatrzymaj 1. Podczas czytania jej wydaj zatrzymania 1 za 1, żeby zadać graczowi odgrywającemu tę postać pytania z poniższej listy:\\n\\n- jaka była najpodlejsza chwila w życiu postaci?\\n- za co twoja postać pragnie przebaczenia – i od kogo?\\n- co jest źródłem wewnętrznych cierpień twojej postaci?\\n- w jaki sposób można zranić umysł i duszę twojej postaci?\\n\\nW przypadku porażki zadajesz o\\ue014erze 1-ranę (ppanc), bez efektu.\\n\\n#### Szept wprost do mózgu\\n\\nmożesz rzucić+dziw, aby uzyskać efekt grożenia przemocą bez grożenia przemocą.\\nTwój cel musi cię widzieć, ale nie musicie wchodzić w żadną interakcję. Jeśli o\\ue014ara wymusi cios, twój umysł traktowany jest jako broń (1-rana, ppanc, bliski, opcjonalnie głośno).\\n\\n### Implantacja rozkazu w mózgu\\n\\nkiedy poświęcasz czas na fizyczną bliskość z drugą osobą – ponownie, wzajemną lub jednostronną – możesz zagnieździć w jej umyśle rozkaz.\\nRzuć+dziw. Na 10+ zatrzymaj 3. Na 7–9 zatrzymaj 1. W dowolnej chwili, bez względu na okoliczności, możesz wydać swoje zatrzymania 1 za 1, żeby aktywować poniższe opcje:\\n\\n- zadaj 1-ranę (ppanc);\\n- cel otrzymuje −1, w tej chwili.\\n\\nJeśli ofiara wypełni twój rozkaz, traktuj to jako zużycie wszystkich zatrzymań.\\nW przypadku porażki zadajesz ofierze 1-ranę (ppanc), bez efektu.\\n\\n## SPRZĘT\\n\\nDostajesz:\\n\\n- 1 małą wymyślną broń\\n- różności warte 5-barter\\n- 2 rzeczy ze sprzętu psychola\\n- ubranie odpowiadające twojemu wyglądowi, możesz zdecydować, czy w jego skład wchodzi również odzież o wartości 1-pancerza (ty ustalasz szczegóły)\\n\\nMała wymyślna broń:\\n\\n- 9mm z tłumikiem (2-rany, bliski, hi-tech)\\n- zdobiony sztylet (2-rany, ramię, wartościowy)\\n- ukryte noże (2-rany, ramię, nieskończone)\\n- skalpele (3-rany, intymny, hi-tech)\\n- zabytkowy rewolwer (2-rany, bliski, przeładowanie, głośny, wartościowy)\\n\\n### Sprzęt psychola\\n\\n- strzykawka z implantem (dotyk, hi-tech) Gdy użyjesz na kimś strzykawki, to każdy ruch psychola, który pozwala ci zadać obrażenia, zada dodatkowo +1ranę.\\n- transmiter fal mózgowych (obszarowy, bliski, hi-tech) Na potrzeby ruchów psychola: jeśli ktoś jest w stanie dostrzec twój transmiter fal mózgowych, będzie też w stanie dostrzec ciebie.\\n- meta-narkotyki (dotyk, hi-tech) Dotknięcie kogoś daje ci dodatkowe +1zatrzymanie, jeśli następnie użyjesz na tej osobie jednego z ruchów psychola.\\n- rękawica psychogwałtu (ramię, hi-tech) Na potrzeby ruchów psychola: zwykły dotyk liczy się jako czas i fizyczna bliskość.\\n- projektor fal bólu (1-rana, ppanc, obszarowy, głośny, przeładowanie, hi-tech) Działa jak granat wielokrotnego użytku. Fala uderza we wszystkich oprócz ciebie.\\n- psychiczne stopery (zakładane, hi-tech) Chronią noszącego je przed działaniem ruchów i sprzętu psychola.\\n']"
      ]
     },
     "execution_count": 219,
     "metadata": {},
     "output_type": "execute_result"
    }
   ],
   "source": [
    "from pathlib import Path\n",
    "\n",
    "sheets_path = Path(\"data/karty-postaci/\")\n",
    "sheets = sheets_path.glob(\"*.md\")\n",
    "\n",
    "sheets_raw = []\n",
    "for sheet in sheets:\n",
    "    with open(sheet, \"r\") as f:\n",
    "        sheets_raw.append(f.read())\n",
    "\n",
    "sheets_raw"
   ]
  },
  {
   "cell_type": "markdown",
   "metadata": {},
   "source": [
    "##### Splits"
   ]
  },
  {
   "cell_type": "code",
   "execution_count": 248,
   "metadata": {},
   "outputs": [
    {
     "data": {
      "text/plain": [
       "Document(metadata={'Header 1': 'TWORZENIE TEKKNIKA'}, page_content='# TWORZENIE TEKKNIKA  \\nAby stworzyć swojego tekknika, wybierz imię, wygląd, cechy, ruchy, warsztat oraz projekty.')"
      ]
     },
     "execution_count": 248,
     "metadata": {},
     "output_type": "execute_result"
    }
   ],
   "source": [
    "from langchain_text_splitters import MarkdownHeaderTextSplitter\n",
    "\n",
    "headers_to_split_on = [\n",
    "    (\"#\", \"Header 1\"),\n",
    "    (\"##\", \"Header 2\"),\n",
    "    (\"###\", \"Header 3\"),\n",
    "    (\"####\", \"Header 4\"),\n",
    "]\n",
    "\n",
    "markdown_splitter = MarkdownHeaderTextSplitter(headers_to_split_on, strip_headers=False)\n",
    "\n",
    "md_header_splits = []\n",
    "for sheet in sheets_raw:\n",
    "    md_header_splits.append(markdown_splitter.split_text(sheet))\n",
    "\n",
    "md_header_splits\n",
    "\n",
    "md_header_splits[0][0]"
   ]
  },
  {
   "cell_type": "markdown",
   "metadata": {},
   "source": [
    "##### Chroma DB"
   ]
  },
  {
   "cell_type": "code",
   "execution_count": null,
   "metadata": {},
   "outputs": [
    {
     "data": {
      "text/plain": [
       "<langchain_community.vectorstores.chroma.Chroma at 0x7f1b053965d0>"
      ]
     },
     "execution_count": 221,
     "metadata": {},
     "output_type": "execute_result"
    }
   ],
   "source": [
    "from langchain_community.vectorstores import Chroma\n",
    "from langchain_openai.embeddings import OpenAIEmbeddings\n",
    "\n",
    "db = Chroma(persist_directory=\"db/\", embedding_function=OpenAIEmbeddings())\n",
    "\n",
    "for sheet in md_header_splits:\n",
    "    db.add_documents(sheet)\n",
    "\n",
    "db"
   ]
  },
  {
   "cell_type": "markdown",
   "metadata": {},
   "source": [
    "##### Retriever"
   ]
  },
  {
   "cell_type": "code",
   "execution_count": 291,
   "metadata": {},
   "outputs": [
    {
     "data": {
      "text/plain": [
       "Tool(name='retrieve_character_sheet', description=\"Search and return information about how to create characters for tabletop RPG game 'Świat Apokalipsy'.\", args_schema=<class 'langchain_core.tools.retriever.RetrieverInput'>, func=functools.partial(<function _get_relevant_documents at 0x7f1b17d6ac00>, retriever=VectorStoreRetriever(tags=['Chroma', 'OpenAIEmbeddings'], vectorstore=<langchain_community.vectorstores.chroma.Chroma object at 0x7f1b053965d0>, search_kwargs={'k': 4}), document_prompt=PromptTemplate(input_variables=['page_content'], input_types={}, partial_variables={}, template='{page_content}'), document_separator='\\n\\n'), coroutine=functools.partial(<function _aget_relevant_documents at 0x7f1b15341bc0>, retriever=VectorStoreRetriever(tags=['Chroma', 'OpenAIEmbeddings'], vectorstore=<langchain_community.vectorstores.chroma.Chroma object at 0x7f1b053965d0>, search_kwargs={'k': 4}), document_prompt=PromptTemplate(input_variables=['page_content'], input_types={}, partial_variables={}, template='{page_content}'), document_separator='\\n\\n'))"
      ]
     },
     "execution_count": 291,
     "metadata": {},
     "output_type": "execute_result"
    }
   ],
   "source": [
    "from langchain.tools.retriever import create_retriever_tool\n",
    "\n",
    "main_retriever = db.as_retriever(search_kwargs={'k': 4}, search_type=\"similarity\")\n",
    "\n",
    "retriever_tool = create_retriever_tool(\n",
    "    main_retriever,\n",
    "    \"retrieve_character_sheet\",\n",
    "    \"Search and return information about how to create characters for tabletop RPG game 'Świat Apokalipsy'.\",\n",
    ")\n",
    "\n",
    "description_retriever = db.as_retriever(search_kwargs={'k': 1, \"filter\":{\"Header 2\": \"OPIS POSTACI\"}}, search_type=\"similarity\")\n",
    "\n",
    "description_retriever_tool = create_retriever_tool(\n",
    "    description_retriever,\n",
    "    \"describe_character_sheet\",\n",
    "    \"Search and return information about characters description (OPIS _class_name_) for tabletop RPG game 'Świat Apokalipsy'.\",\n",
    ")\n",
    "\n",
    "retriever_tool"
   ]
  },
  {
   "cell_type": "markdown",
   "metadata": {},
   "source": [
    "## Model, tools, graph state"
   ]
  },
  {
   "cell_type": "code",
   "execution_count": 292,
   "metadata": {},
   "outputs": [],
   "source": [
    "class Answer(TypedDict):\n",
    "    \"\"\"Answer to a question\"\"\"\n",
    "\n",
    "    answer: Annotated[str, ..., \"The answer to the question\"]\n",
    "\n",
    "\n",
    "class Question(TypedDict):\n",
    "    \"\"\"Question to ask the user\"\"\"\n",
    "\n",
    "    question: Annotated[str, ..., \"The question to ask the user\"]\n",
    "    guidance: Annotated[str, ..., \"Guidance to help the user answer the question\"]\n",
    "    answer: Annotated[Optional[str], ...]\n",
    "\n",
    "\n",
    "class Questions(TypedDict):\n",
    "    \"\"\"List of questions to ask the user\"\"\"\n",
    "\n",
    "    questions: List[Question] = Field(description=\"The questions to ask the user\", min_length=3)\n",
    "\n",
    "class CharactersSummary(TypedDict):\n",
    "    \"\"\"Summary of the characters in the story\"\"\"\n",
    "\n",
    "    appearance: Annotated[str, ..., \"Description of the character's appearance\"]\n",
    "    description: Annotated[str, ..., \"Description of the character\"]\n",
    "\n",
    "\n",
    "# State - has messages from MessagesState\n",
    "class GraphState(MessagesState):\n",
    "    questions: Questions\n",
    "    summary: CharactersSummary\n",
    "    character_class: Optional[Annotated[str, ..., \"The class of the character\"]]\n",
    "\n",
    "\n",
    "model = ChatOpenAI(model=\"gpt-4o-mini\")\n",
    "model_with_json_questions_output = model.with_structured_output(Questions)\n",
    "model_with_json_summary_output = model.with_structured_output(CharactersSummary)"
   ]
  },
  {
   "cell_type": "code",
   "execution_count": 300,
   "metadata": {},
   "outputs": [
    {
     "data": {
      "image/png": "[encoded data removed]",
      "text/plain": [
       "<IPython.core.display.Image object>"
      ]
     },
     "metadata": {},
     "output_type": "display_data"
    }
   ],
   "source": [
    "from typing import Literal\n",
    "from langchain_core.prompts import PromptTemplate\n",
    "from pydantic import BaseModel\n",
    "\n",
    "\n",
    "# Node\n",
    "def generate_questions(state: GraphState):\n",
    "    sys_msg = SystemMessage(\"\"\"\n",
    "You are helpful assistant to generate 3 helpful questions with a short guidance about how to answer them based on given information.\n",
    "Those questions should be helpful to later generate a character for the tabletop RPG game called \"Świat Apokalipsy\".\n",
    "Question should be more specific than general and should help to fill character's sheet like class, skills, items.\n",
    "\n",
    "You will receive a 4 block of information:\n",
    "1. basic information which will contain name of the character, age and other basic information.\n",
    "    example: Moja postać ma na imię Max, ma 25 lat, jest wysokim, szczupłym mężczyzną o ciemnych włosach i niebieskich oczach.\n",
    "2. history of the character which will contain information about the past and skills of the character gained during the past.\n",
    "    example: Max urodził się w małej wiosce, gdzie jego rodzina prowadziła gospodarstwo rolne. W wieku 18 lat opuścił rodzinny dom i wyruszył w świat, aby zdobyć nowe doświadczenia. Podczas swoich podróży nauczył się walczyć i przetrwać w trudnych warunkach.\n",
    "3. Character's traits which will contain information about the character's personality and other traits.\n",
    "    example: Max jest odważny, lecz nieufny wobec obcych. Jest lojalny wobec swoich przyjaciół i gotów poświęcić się dla nich. Często działa impulsywnie, co prowadzi go do niebezpiecznych sytuacji.\n",
    "4. Game's world information which will contain information about the world where the game takes place.\n",
    "    example: Świat postapokaliptycznego przedmieścia Warszawy, gdzie przetrwali unikają stolicy.\n",
    "\n",
    "Example of questions:\n",
    "1. Co sprawiło, że Twoja postać przetrwała apokalipsę?\n",
    "    Pomyśl o umiejętnościach, szczęściu lub okolicznościach, które pozwoliłyby Twojej postaci przetrwać.\n",
    "2. Jakie wydarzenie z przeszłości Twojej postaci miało największy wpływ na jej obecną postawę?\n",
    "    Może to być trauma, triumf lub inna sytuacja, która ukształtowała Twoją postać.\n",
    "3. Kogo Twoja postać straciła podczas apokalipsy i jak to wpłynęło na jej życie?\n",
    "    Zastanów się nad relacjami i więzami, które zostały zerwane.\n",
    "\n",
    "Your output should be in Polish language and contain exactly 3 questions.\n",
    "\"\"\")\n",
    "\n",
    "    questions = model_with_json_questions_output.invoke([sys_msg] + state[\"messages\"])\n",
    "    return {\"messages\": [], \"questions\": questions}\n",
    "\n",
    "\n",
    "# Node\n",
    "def human_input(state: GraphState):\n",
    "    human_message = interrupt(\"human_input\")\n",
    "    for i, answer in enumerate(human_message[\"answers\"]):\n",
    "        answer_t = answer[\"answer\"]\n",
    "        print(state[\"questions\"][\"questions\"])\n",
    "        state[\"questions\"][\"questions\"][i][\"answer\"] = answer_t\n",
    "\n",
    "    print(state[\"questions\"])\n",
    "\n",
    "    return {\"messages\": [], \"questions\": state[\"questions\"]}\n",
    "\n",
    "\n",
    "# Node\n",
    "def summarizer(state: GraphState):\n",
    "    sys_msg = SystemMessage(\n",
    "        \"\"\"You are helpful assistant to generate a summary of the character based on the given information.\n",
    "\n",
    "        Your task is to generate a summary of the character based on the information provided by the user in the same language as the input.\n",
    "\n",
    "        Your output should contain the following information:\n",
    "\n",
    "        Wygląd (appearance) - basic information about the character's appearance, short but detailed description. 1-2 sentences.\n",
    "        Opis (description) -  description of the character. May contain extremely short background and basic traits. 5 sentences at most.\n",
    "        \"\"\"\n",
    "    )\n",
    "\n",
    "    last_human_message = state[\"messages\"][0]\n",
    "\n",
    "    answers = \"\"\n",
    "    for question in state[\"questions\"][\"questions\"]:\n",
    "        answers += f\"{question['answer']}\\n\"\n",
    "\n",
    "    character_info = last_human_message.content + \"\\n\" + answers\n",
    "\n",
    "    summary = model_with_json_summary_output.invoke([sys_msg] + [character_info])\n",
    "\n",
    "    text_summary = f\"{summary[\"appearance\"]}\\n{summary[\"description\"]}\"\n",
    "    ai_message = AIMessage(text_summary)\n",
    "    state[\"messages\"].append(ai_message)\n",
    "    return {\"messages\": state[\"messages\"], \"summary\": summary}\n",
    "\n",
    "\n",
    "# Node\n",
    "def retrieve_node(state: GraphState):\n",
    "    messages = state[\"messages\"]\n",
    "    last_message = messages[-1]\n",
    "    \n",
    "    model = ChatOpenAI(model=\"gpt-4o-mini\", temperature=0)\n",
    "    prompt = PromptTemplate(\n",
    "        template=\"\"\"\n",
    "        You are an assistant for retrieving information about the character's description for tabletop RPG game 'Świat Apokalipsy'.\n",
    "        Use the following pieces of information to retrieve the character's class description.\n",
    "        information about the character to which the description should be related: \\n\\n {context} \\n\\n\n",
    "        \"\"\",\n",
    "        input_variables=[\"context\"],\n",
    "    )\n",
    "\n",
    "    model_with_tools = model.bind_tools([description_retriever_tool])\n",
    "    chain = prompt | model_with_tools\n",
    "\n",
    "    response = chain.invoke([last_message])\n",
    "\n",
    "    docs = description_retriever.get_relevant_documents(last_message.content)\n",
    "    print(f\"{docs=}\")\n",
    "    return {\"messages\": [response]}\n",
    "\n",
    "# Edge\n",
    "# def grade_document(state: GraphState) -> Literal[\"choose_class\", \"retrieve_character_sheet\"]:\n",
    "#     \"\"\"\n",
    "#     Determines whether the retrieved documents are relevant to the question.\n",
    "#     \"\"\"\n",
    "\n",
    "#     # Data model\n",
    "#     class grade(BaseModel):\n",
    "#         \"\"\"Binary score for relevance of the document\"\"\"\n",
    "\n",
    "#         binary_score: str = Field(description=\"Binary score for relevance of the document\")\n",
    "\n",
    "#     grade_model = ChatOpenAI(model=\"gpt-4o-mini\", temperature=0)\n",
    "#     llm_with_tools = grade_model.with_structured_output(grade)\n",
    "\n",
    "#     prompt = PromptTemplate(\n",
    "#         template=\"\"\"\n",
    "#         You are a grader assessing relevance of a retrieved document related to the character summary.\n",
    "#         Here is the retrieved document: \\n\\n {context} \\n\\n\n",
    "#         You need to access best suited character for the given summary: \\n\\n {summary} \\n\\n\n",
    "#         If the document contains keyword(s) or semantic meaning related to the user question, grade it as relevant.\\n\n",
    "#         Give a binary score 'yes' or 'no' score to indicate whether the character description is related to the summary.\n",
    "#         \"\"\",\n",
    "#         input_variables=[\"context\", \"summary\"],\n",
    "#     )\n",
    "\n",
    "#     # Chain\n",
    "#     chain = prompt | llm_with_tools\n",
    "\n",
    "#     summary = state[\"summary\"][\"appearance\"] + state[\"summary\"][\"description\"]\n",
    "#     docs = state[\"messages\"][-1].content\n",
    "#     scored_result = chain.invoke({\"summary\": summary, \"context\": docs})\n",
    "\n",
    "#     score = scored_result.binary_score\n",
    "\n",
    "#     if score == \"yes\":\n",
    "#         return \"choose_class\"\n",
    "#     else:\n",
    "#         return \"retrieve_character_sheet\"\n",
    "\n",
    "\n",
    "\n",
    "# Node\n",
    "def choose_class(state: GraphState):\n",
    "    messages = state[\"messages\"]\n",
    "    last_message = messages[-1]\n",
    "\n",
    "    docs = last_message.content\n",
    "\n",
    "    prompt = PromptTemplate(\n",
    "        template=\"\"\"\n",
    "        You are an assistant for choosing character's class for \"Świat Apokalipsy\" tabletop RPG tasks.\n",
    "        Use the following pieces of retrieved context to determine the best class for the character.\n",
    "\n",
    "        Possible classes:\n",
    "        1. Anioł\n",
    "        2. Chopper\n",
    "        3. Egzekutor\n",
    "        4. Gubernator\n",
    "        5. Guru\n",
    "        6. Kierowca\n",
    "        7. Muza\n",
    "        8. Operator\n",
    "        9. Psychol\n",
    "        10. Tekknik\n",
    "        11. Żyleta\n",
    "\n",
    "        Retrieved documents: \\n\\n {context} \\n\\n\n",
    "        Answer with the class name.\n",
    "        \"\"\",\n",
    "        input_variables=[\"context\"],\n",
    "    )\n",
    "\n",
    "    model = ChatOpenAI(model=\"gpt-4o-mini\", temperature=0)\n",
    "    chain = prompt | model | StrOutputParser()\n",
    "\n",
    "    response = chain.invoke({\"context\": docs})\n",
    "    print(f\"Class is {response}\")\n",
    "    return {\"character_class\": response}\n",
    "\n",
    "\n",
    "workflow = StateGraph(GraphState)\n",
    "\n",
    "workflow.add_node(\"generate_questions\", generate_questions)\n",
    "workflow.add_node(\"human_input\", human_input)\n",
    "workflow.add_node(\"summarizer\", summarizer)\n",
    "workflow.add_node(\"retrieve_node\", retrieve_node)\n",
    "description_retrieve_character_sheet = ToolNode([description_retriever_tool])\n",
    "workflow.add_node(\"retrieve_character_sheet\", description_retrieve_character_sheet)\n",
    "workflow.add_node(\"choose_class\", choose_class)\n",
    "\n",
    "\n",
    "workflow.add_edge(START, \"generate_questions\")\n",
    "workflow.add_edge(\"generate_questions\", \"human_input\")\n",
    "workflow.add_edge(\"human_input\", \"summarizer\")\n",
    "workflow.add_edge(\"summarizer\", \"retrieve_node\")\n",
    "workflow.add_edge(\"retrieve_node\", \"retrieve_character_sheet\")\n",
    "workflow.add_edge(\"retrieve_character_sheet\", \"choose_class\")\n",
    "\n",
    "\n",
    "workflow.add_edge(\"choose_class\", END)\n",
    "\n",
    "checkpointer = MemorySaver()\n",
    "\n",
    "graph = workflow.compile(checkpointer=checkpointer)\n",
    "\n",
    "display(Image(graph.get_graph().draw_mermaid_png()))"
   ]
  },
  {
   "cell_type": "code",
   "execution_count": 301,
   "metadata": {},
   "outputs": [
    {
     "name": "stdout",
     "output_type": "stream",
     "text": [
      "================================\u001b[1m Human Message \u001b[0m=================================\n",
      "\n",
      "Joseph jest 35 letnim mężczyzną o szerokiej sylwetce bez oka i długimi włosami, nosi opaskę.\n",
      "\n",
      "Za życia był udanym mechanikiem i prowadził dużą sieć serwisów samochodowych.\n",
      "\n",
      "Joseph jest bardzo szczerym i wesołym, zawsze znajdzie moment na żart.\n",
      "\n",
      "Ostatnia wojna nuklearna zmasakrowała cały świat, ale cudem ominęła Otwock, który leży przy Warszawie.\n",
      "\n",
      "{'questions': [{'question': 'Jakie umiejętności mechaniczne Joseph wykorzystuje w postapokaliptycznym świecie?', 'guidance': 'Pomyśl o tym, jak jego doświadczenie jako mechanika może pomóc w naprawie pojazdów lub konstrukcji w trudnych warunkach.', 'answer': ''}, {'question': 'Jakie relacje Joseph nawiązał w nowym świecie po apokalipsie?', 'guidance': 'Rozważ, czy Joseph ma przyjaciół, sojuszników lub wrogów, i jak te relacje wpływają na jego codzienne życie.', 'answer': ''}, {'question': 'Jak Joseph radzi sobie z utratą oka i jak to wpływa na jego osobowość?', 'guidance': 'Zastanów się, czy brak oka wpłynął na jego poczucie humoru lub na to, jak postrzega siebie i innych w nowym świecie.', 'answer': ''}]}\n"
     ]
    }
   ],
   "source": [
    "config = {\"configurable\": {\"thread_id\": \"2\"}}\n",
    "\n",
    "joseph_mechanik = {\n",
    "    \"messages\": \"Joseph jest 35 letnim mężczyzną o szerokiej sylwetce bez oka i długimi włosami, nosi opaskę.\\n\\nZa życia był udanym mechanikiem i prowadził dużą sieć serwisów samochodowych.\\n\\nJoseph jest bardzo szczerym i wesołym, zawsze znajdzie moment na żart.\\n\\nOstatnia wojna nuklearna zmasakrowała cały świat, ale cudem ominęła Otwock, który leży przy Warszawie.\"\n",
    "}\n",
    "\n",
    "ania_lekraz = {\n",
    "    \"messages\": \"Ania jest 25 letnią kobietą o krótkich blond włosach i zielonych oczach, nosi okulary.\\n\\nZa życia była lekarką i prowadziła małą przychodnię w Otwocku.\\n\\nAnia jest bardzo cicha i skryta, ale zawsze gotowa pomóc innym.\\n\\nOstatnia wojna\"\n",
    "}\n",
    "\n",
    "resp = graph.invoke(\n",
    "    joseph_mechanik,\n",
    "    config=config,\n",
    ")\n",
    "\n",
    "for m in resp[\"messages\"]:\n",
    "    m.pretty_print()\n",
    "\n",
    "print()\n",
    "print(resp[\"questions\"])\n",
    "\n",
    "# print()\n",
    "# print(resp[\"answers\"])\n",
    "\n",
    "# print(type(resp[\"questions\"]))\n",
    "\n",
    "# print()\n",
    "# print(resp[\"questions\"][\"questions\"][0][\"question\"])"
   ]
  },
  {
   "cell_type": "code",
   "execution_count": 302,
   "metadata": {},
   "outputs": [
    {
     "name": "stdout",
     "output_type": "stream",
     "text": [
      "[{'question': 'Jakie umiejętności mechaniczne Joseph wykorzystuje w postapokaliptycznym świecie?', 'guidance': 'Pomyśl o tym, jak jego doświadczenie jako mechanika może pomóc w naprawie pojazdów lub konstrukcji w trudnych warunkach.', 'answer': ''}, {'question': 'Jakie relacje Joseph nawiązał w nowym świecie po apokalipsie?', 'guidance': 'Rozważ, czy Joseph ma przyjaciół, sojuszników lub wrogów, i jak te relacje wpływają na jego codzienne życie.', 'answer': ''}, {'question': 'Jak Joseph radzi sobie z utratą oka i jak to wpływa na jego osobowość?', 'guidance': 'Zastanów się, czy brak oka wpłynął na jego poczucie humoru lub na to, jak postrzega siebie i innych w nowym świecie.', 'answer': ''}]\n",
      "[{'question': 'Jakie umiejętności mechaniczne Joseph wykorzystuje w postapokaliptycznym świecie?', 'guidance': 'Pomyśl o tym, jak jego doświadczenie jako mechanika może pomóc w naprawie pojazdów lub konstrukcji w trudnych warunkach.', 'answer': 'Joseph przetrwał dzięki swoim umiejętnościom naprawy czegokolwiek, co tylko może się zepsuć.'}, {'question': 'Jakie relacje Joseph nawiązał w nowym świecie po apokalipsie?', 'guidance': 'Rozważ, czy Joseph ma przyjaciół, sojuszników lub wrogów, i jak te relacje wpływają na jego codzienne życie.', 'answer': ''}, {'question': 'Jak Joseph radzi sobie z utratą oka i jak to wpływa na jego osobowość?', 'guidance': 'Zastanów się, czy brak oka wpłynął na jego poczucie humoru lub na to, jak postrzega siebie i innych w nowym świecie.', 'answer': ''}]\n",
      "[{'question': 'Jakie umiejętności mechaniczne Joseph wykorzystuje w postapokaliptycznym świecie?', 'guidance': 'Pomyśl o tym, jak jego doświadczenie jako mechanika może pomóc w naprawie pojazdów lub konstrukcji w trudnych warunkach.', 'answer': 'Joseph przetrwał dzięki swoim umiejętnościom naprawy czegokolwiek, co tylko może się zepsuć.'}, {'question': 'Jakie relacje Joseph nawiązał w nowym świecie po apokalipsie?', 'guidance': 'Rozważ, czy Joseph ma przyjaciół, sojuszników lub wrogów, i jak te relacje wpływają na jego codzienne życie.', 'answer': 'Czysto biznesowe.'}, {'question': 'Jak Joseph radzi sobie z utratą oka i jak to wpływa na jego osobowość?', 'guidance': 'Zastanów się, czy brak oka wpłynął na jego poczucie humoru lub na to, jak postrzega siebie i innych w nowym świecie.', 'answer': ''}]\n",
      "{'questions': [{'question': 'Jakie umiejętności mechaniczne Joseph wykorzystuje w postapokaliptycznym świecie?', 'guidance': 'Pomyśl o tym, jak jego doświadczenie jako mechanika może pomóc w naprawie pojazdów lub konstrukcji w trudnych warunkach.', 'answer': 'Joseph przetrwał dzięki swoim umiejętnościom naprawy czegokolwiek, co tylko może się zepsuć.'}, {'question': 'Jakie relacje Joseph nawiązał w nowym świecie po apokalipsie?', 'guidance': 'Rozważ, czy Joseph ma przyjaciół, sojuszników lub wrogów, i jak te relacje wpływają na jego codzienne życie.', 'answer': 'Czysto biznesowe.'}, {'question': 'Jak Joseph radzi sobie z utratą oka i jak to wpływa na jego osobowość?', 'guidance': 'Zastanów się, czy brak oka wpłynął na jego poczucie humoru lub na to, jak postrzega siebie i innych w nowym świecie.', 'answer': 'Młotek, taśma i klej. Najważniejsze rzeczy do naprawy.'}]}\n",
      "docs=[Document(metadata={'Header 1': 'TWORZENIE EGZEKUTORA', 'Header 2': 'OPIS POSTACI'}, page_content='## OPIS POSTACI  \\nŚwiat Apokalipsy jest podły, ohydny i pełen przemocy.\\nPrawo i społeczeństwo upadły. Twoje jest tylko to, co jesteś w stanie utrzymać. Nie ma spokoju.\\nNic nie jest trwałe. Pewne jest tylko to, że tego, co zdołasz cal po calu wyrwać z betonu i brudu, musisz potem bronić mordem i krwią.  \\nCzasami oczywisty ruch jest tym właściwym.')]\n",
      "Class is Egzekutor\n",
      "================================\u001b[1m Human Message \u001b[0m=================================\n",
      "\n",
      "Joseph jest 35 letnim mężczyzną o szerokiej sylwetce bez oka i długimi włosami, nosi opaskę.\n",
      "\n",
      "Za życia był udanym mechanikiem i prowadził dużą sieć serwisów samochodowych.\n",
      "\n",
      "Joseph jest bardzo szczerym i wesołym, zawsze znajdzie moment na żart.\n",
      "\n",
      "Ostatnia wojna nuklearna zmasakrowała cały świat, ale cudem ominęła Otwock, który leży przy Warszawie.\n",
      "==================================\u001b[1m Ai Message \u001b[0m==================================\n",
      "\n",
      "Joseph jest 35-letnim mężczyzną o szerokiej sylwetce, bez jednego oka i długich włosach, które nosi pod opaską.\n",
      "Za życia Joseph był udanym mechanikiem, prowadzącym dużą sieć serwisów samochodowych. Jest bardzo szczerym i wesołym człowiekiem, który zawsze potrafi rozbawić innych. Ostatnia wojna nuklearna zniszczyła większość świata, ale Otwock, w którym mieszka, cudem uniknął zagłady. Joseph przetrwał dzięki swoim umiejętnościom naprawy wszelkich przedmiotów. Jego podstawowe narzędzia to młotek, taśma i klej, które uważa za najważniejsze do wykonywania napraw.\n",
      "==================================\u001b[1m Ai Message \u001b[0m==================================\n",
      "Tool Calls:\n",
      "  describe_character_sheet (call_hm06iBcVnaQATHcVrGCAAZBj)\n",
      " Call ID: call_hm06iBcVnaQATHcVrGCAAZBj\n",
      "  Args:\n",
      "    query: Joseph jest 35-letnim mężczyzną o szerokiej sylwetce, bez jednego oka i długich włosach, które nosi pod opaską. Za życia Joseph był udanym mechanikiem, prowadzącym dużą sieć serwisów samochodowych. Jest bardzo szczerym i wesołym człowiekiem, który zawsze potrafi rozbawić innych. Ostatnia wojna nuklearna zniszczyła większość świata, ale Otwock, w którym mieszka, cudem uniknął zagłady. Joseph przetrwał dzięki swoim umiejętnościom naprawy wszelkich przedmiotów. Jego podstawowe narzędzia to młotek, taśma i klej, które uważa za najważniejsze do wykonywania napraw.\n",
      "=================================\u001b[1m Tool Message \u001b[0m=================================\n",
      "Name: describe_character_sheet\n",
      "\n",
      "## OPIS POSTACI  \n",
      "Świat Apokalipsy jest podły, ohydny i pełen przemocy.\n",
      "Prawo i społeczeństwo upadły. Twoje jest tylko to, co jesteś w stanie utrzymać. Nie ma spokoju.\n",
      "Nic nie jest trwałe. Pewne jest tylko to, że tego, co zdołasz cal po calu wyrwać z betonu i brudu, musisz potem bronić mordem i krwią.  \n",
      "Czasami oczywisty ruch jest tym właściwym.\n",
      "\n",
      "{'questions': [{'question': 'Jakie umiejętności mechaniczne Joseph wykorzystuje w postapokaliptycznym świecie?', 'guidance': 'Pomyśl o tym, jak jego doświadczenie jako mechanika może pomóc w naprawie pojazdów lub konstrukcji w trudnych warunkach.', 'answer': 'Joseph przetrwał dzięki swoim umiejętnościom naprawy czegokolwiek, co tylko może się zepsuć.'}, {'question': 'Jakie relacje Joseph nawiązał w nowym świecie po apokalipsie?', 'guidance': 'Rozważ, czy Joseph ma przyjaciół, sojuszników lub wrogów, i jak te relacje wpływają na jego codzienne życie.', 'answer': 'Czysto biznesowe.'}, {'question': 'Jak Joseph radzi sobie z utratą oka i jak to wpływa na jego osobowość?', 'guidance': 'Zastanów się, czy brak oka wpłynął na jego poczucie humoru lub na to, jak postrzega siebie i innych w nowym świecie.', 'answer': 'Młotek, taśma i klej. Najważniejsze rzeczy do naprawy.'}]}\n"
     ]
    }
   ],
   "source": [
    "joseph_answers = {\n",
    "    \"answers\": [\n",
    "        {\"answer\": \"Joseph przetrwał dzięki swoim umiejętnościom naprawy czegokolwiek, co tylko może się zepsuć.\"},\n",
    "        {\"answer\": \"Czysto biznesowe.\"},\n",
    "        {\"answer\": \"Młotek, taśma i klej. Najważniejsze rzeczy do naprawy.\"},\n",
    "    ],\n",
    "}\n",
    "\n",
    "ania_anwers = {\n",
    "    \"answers\": [\n",
    "        {\"answer\": \"Ania wykorzystuje swoje umiejętności chirurgiczne by pomagać znajomym.\"},\n",
    "        {\"answer\": \"Ania jest zimna i szybka w swoich decyzjach, które często ratują życia i losy.\"},\n",
    "        {\"answer\": \"Wygoda i zabezpieczenie siebie.\"},\n",
    "    ],\n",
    "}\n",
    "\n",
    "resp = graph.invoke(\n",
    "    Command(resume=joseph_answers),\n",
    "    config=config,\n",
    ")\n",
    "\n",
    "for m in resp[\"messages\"]:\n",
    "    m.pretty_print()\n",
    "\n",
    "print()\n",
    "\n",
    "print(resp[\"questions\"])"
   ]
  },
  {
   "cell_type": "code",
   "execution_count": 303,
   "metadata": {},
   "outputs": [
    {
     "name": "stdout",
     "output_type": "stream",
     "text": [
      "{'appearance': 'Joseph jest 35-letnim mężczyzną o szerokiej sylwetce, bez jednego oka i długich włosach, które nosi pod opaską.', 'description': 'Za życia Joseph był udanym mechanikiem, prowadzącym dużą sieć serwisów samochodowych. Jest bardzo szczerym i wesołym człowiekiem, który zawsze potrafi rozbawić innych. Ostatnia wojna nuklearna zniszczyła większość świata, ale Otwock, w którym mieszka, cudem uniknął zagłady. Joseph przetrwał dzięki swoim umiejętnościom naprawy wszelkich przedmiotów. Jego podstawowe narzędzia to młotek, taśma i klej, które uważa za najważniejsze do wykonywania napraw.'}\n"
     ]
    }
   ],
   "source": [
    "print(resp[\"summary\"])"
   ]
  },
  {
   "cell_type": "code",
   "execution_count": 304,
   "metadata": {},
   "outputs": [
    {
     "data": {
      "text/plain": [
       "'EGZEKUTORA'"
      ]
     },
     "execution_count": 304,
     "metadata": {},
     "output_type": "execute_result"
    }
   ],
   "source": [
    "description_retriever.invoke(resp[\"summary\"][\"description\"])[0].metadata[\"Header 1\"].split(\" \")[-1]"
   ]
  },
  {
   "cell_type": "code",
   "execution_count": 305,
   "metadata": {},
   "outputs": [
    {
     "data": {
      "text/plain": [
       "'Egzekutor'"
      ]
     },
     "execution_count": 305,
     "metadata": {},
     "output_type": "execute_result"
    }
   ],
   "source": [
    "resp[\"character_class\"]"
   ]
  },
  {
   "cell_type": "code",
   "execution_count": null,
   "metadata": {},
   "outputs": [],
   "source": []
  }
 ],
 "metadata": {
  "kernelspec": {
   "display_name": ".venv",
   "language": "python",
   "name": "python3"
  },
  "language_info": {
   "codemirror_mode": {
    "name": "ipython",
    "version": 3
   },
   "file_extension": ".py",
   "mimetype": "text/x-python",
   "name": "python",
   "nbconvert_exporter": "python",
   "pygments_lexer": "ipython3",
   "version": "3.12.5"
  }
 },
 "nbformat": 4,
 "nbformat_minor": 2
}
